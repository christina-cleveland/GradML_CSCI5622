{
 "cells": [
  {
   "cell_type": "markdown",
   "metadata": {},
   "source": [
    "# Homework - 2\n",
    "***\n",
    "**Name**: Christina Cleveland \n",
    "Worked with: Maggie Jacoby\n",
    "***\n",
    "\n",
    "This assignment is due on Canvas by **5pm on Friday October 5th**. Submit only this Jupyter notebook to Canvas.  Do not compress it using tar, rar, zip, etc. Your solutions to analysis questions should be done in Markdown directly below the associated question.  Remember that you are encouraged to discuss the problems with your classmates and instructors, but **you must write all code and solutions on your own**, and list any people or sources consulted."
   ]
  },
  {
   "cell_type": "markdown",
   "metadata": {},
   "source": [
    "## Boosting - Extra Credit [5-points]\n",
    "***\n",
    "\n",
    "In this problem, we slightly modify the AdaBoost algorithm to better explore some properties of the algorithm. Specifically, we no longer normalize the weights on the training examples after each iteration. The modified algorithm, which is set to run for $T$ iterations, is shown in Algorithm I.\n",
    "\n",
    "Note that in the modified version, the weights associated with the training examples are no longer guaranteed to sum to one after each iteration (and therefore can not be viewed as a \"distribution\"), but the algorithm is still valid. Let us denote the sum of weights at the start of iteration $t$ by $Z_t = \\sum_{i=1}^{n}w_t^{(t)}$. At the start of the first iteration of boosting, $Z_1 = n$. Let us now investigate the behavior of $Z_t$, as a function of t\n",
    "\n",
    "![image](fig-1.png)"
   ]
  },
  {
   "cell_type": "markdown",
   "metadata": {},
   "source": [
    "**A:** At the $i^{th}$ iteration, we found a weak classifier that achieves a weighted training error $\\epsilon_t$. Show that the choice, $\\alpha_t = \\frac{1}{2}\\log\\frac{1 - \\epsilon_t}{\\epsilon_t}$ is the optimal in the sense that it minimizes $Z_{t+1}$\n",
    "\n",
    "*Hint: Look at $Z_{t+1}$ as function of $\\alpha$ and find the value of $\\alpha$ for which the function achieves the maximum. You may also find the following notational shorthand useful:\n",
    "\n",
    "$$W_t = \\sum_{i=1}^{n}w_i^{(t)}(1 - \\delta(y_i, h_t(x_i)))$$\n",
    "$$W_c = \\sum_{i=1}^{n}w_i^{(t)}(\\delta(y_i, h_t(x_i)))$$\n",
    "\n",
    "where $W_c$ is the total weight of the points classified correctly by $h_t$ and $W_t$ is the total weight of the misclassified points. $\\delta(y, h_t(x)) = 1$ whenever the label predicted by $h_t$ is correct and zero otherwise. The weights here are those available at the start of iteration $t$"
   ]
  },
  {
   "cell_type": "markdown",
   "metadata": {},
   "source": [
    "**Solution Part A:**\n",
    "\n",
    "$$Z_{t+1} = \\sum_{i=1}^{n}w_i^{(t+1)}$$\n",
    "\n",
    "From the algorithm above, the update to the weights is:\n",
    "\n",
    "$$w_i^{(t+1)} = w_i^{(t)} \\exp{(-y_i\\alpha_t h_t(x_i))}$$\n",
    "\n",
    "If the prediction at i is correct then the above equation simlifies to:\n",
    "\n",
    "$$w_i^{(t+1)} = w_i^{(t)} \\exp{(-\\alpha_t)}$$\n",
    "\n",
    "Else, if the prediction at i is incorrect the equation simplifies to:\n",
    "\n",
    "$$w_i^{(t+1)} = w_i^{(t)} \\exp{(\\alpha_t)}$$\n",
    "\n",
    "We can substitute these in the first equation above, using $W_c$ and $W_t$, so that $Z_{t+1}$ is a function of $\\alpha_t$:\n",
    "\n",
    "$$Z_{t+1}(\\alpha_t) = W_t\\exp{(\\alpha_t)} + W_c\\exp{(-\\alpha_t)} $$\n",
    "\n",
    "To find a minimum for $Z_{t+1}$, will find where first derivative, w.r.t $\\alpha_i$, is 0:\n",
    "\n",
    "$$\\frac{\\delta Z_{t+1}(\\alpha_t)}{\\delta\\alpha_i} = W_t\\exp{(\\alpha_t)} - W_c\\exp{(-\\alpha_t)} = 0 $$\n",
    "\n",
    "Rearranging this to solve for $\\alpha_t$, we get:\n",
    "\n",
    "$$ \\exp{(2\\alpha_t)} = \\frac{W_c }{W_t} $$\n",
    "\n",
    "\n",
    "$$\\alpha_t = \\frac12 \\log \\frac{W_c }{W_t}$$\n",
    "\n",
    "From the equation for the weighted training error, given in the algorithm, can solve for $W_t$ and $W_c$ in terms of $\\epsilon_t$:\n",
    "\n",
    "For $W_t$:\n",
    "$$ \\epsilon_t = \\frac 1 {Z_t} W_t$$\n",
    "$$ W_t =Z_t \\epsilon_t $$\n",
    "\n",
    "For $W_c$:\n",
    "$$\\epsilon_t = \\frac 1 {Z_t}(Z_t - W_c)$$\n",
    "$$\\epsilon_t = 1 - \\frac {W_c} {Z_t}$$\n",
    "$$ W_c =Z_t (1 - \\epsilon_t) $$\n",
    "\n",
    "So, substituting these in to the function for $\\alpha_t$:\n",
    "\n",
    "$$\\alpha_t = \\frac12 \\log \\frac{Z_t (1 - \\epsilon_t) }{Z_t \\epsilon_t }$$\n",
    "\n",
    "$$\\alpha_t = \\frac12 \\log \\frac{1 - \\epsilon_t}{\\epsilon_t }$$\n",
    "\n",
    "which shows that the choice of $\\alpha_t$ is optimal since it minimizes $Z_t$"
   ]
  },
  {
   "cell_type": "markdown",
   "metadata": {},
   "source": [
    "**B:** Show that the sum of weights $Z_t$ is monotonically decreasing as a function of $t$."
   ]
  },
  {
   "cell_type": "markdown",
   "metadata": {},
   "source": [
    "Will show that $Z_t$ is monotonically decreasing by showing that $Z_{t+1} / Z_t < 1$\n",
    "\n",
    "From part a:\n",
    "$$Z_{t+1} = W_t\\exp{(\\alpha_t)} + W_c\\exp{(-\\alpha_t)} $$\n",
    "\n",
    "$$Z_{t} = W_t + W_c$$\n",
    "\n",
    "Substituting in $\\alpha_t$:\n",
    "\n",
    "$$Z_{t+1} =  W_t\\exp{(\\frac12 \\log \\frac{W_c }{W_t})} + W_c\\exp{(-\\frac12 \\log \\frac{W_c }{W_t})}$$\n",
    "\n",
    "$$Z_{t+1}  =  W_t(\\frac{W_c }{W_t})^{1/2} + W_c(\\frac{W_t}{W_c})^{1/2} $$\n",
    "\n",
    "$$Z_{t+1}  =  W_t(\\frac{W_c }{W_t})^{1/2} + W_c(\\frac{W_t}{W_c})^{1/2}$$\n",
    "\n",
    "$$Z_{t+1}  =  2({W_t}{W_c})^{1/2}$$\n",
    "\n",
    "Substitute in for $W_t, W_c$:\n",
    "\n",
    "$$Z_{t+1}  =  2Z_t({\\epsilon_t}(1-\\epsilon_t))^{1/2}$$\n",
    "\n",
    "$$\\frac{Z_{t+1}}{Z_t}  =  2({-\\epsilon_t^2}+\\epsilon_t)^{1/2}$$\n",
    "\n",
    "For worst case scenario, where $\\epsilon_t = \\frac12$:\n",
    "\n",
    "$$\\frac{Z_{t+1}}{Z_t}  = 2(\\frac12) = 1$$\n",
    "\n",
    "However, by definition, $\\epsilon_t < \\frac12$ and as $\\epsilon_t$ decreases so does $2({-\\epsilon_t^2}+\\epsilon_t)^{1/2}$, so $\\frac{Z_{t+1}}{Z_t} < 1$ which shows that ${Z_{t+1}}<{Z_t}$"
   ]
  },
  {
   "cell_type": "markdown",
   "metadata": {},
   "source": [
    "## Training Data\n",
    "***\n",
    "Please do not change this class"
   ]
  },
  {
   "cell_type": "code",
   "execution_count": 4,
   "metadata": {},
   "outputs": [],
   "source": [
    "import numpy as np\n",
    "from sklearn.base import clone"
   ]
  },
  {
   "cell_type": "code",
   "execution_count": 5,
   "metadata": {},
   "outputs": [],
   "source": [
    "class ThreesAndEights:\n",
    "    \"\"\"\n",
    "    Class to store MNIST data\n",
    "    \"\"\"\n",
    "\n",
    "    def __init__(self, location):\n",
    "\n",
    "        import pickle, gzip\n",
    "\n",
    "        # Load the dataset\n",
    "        f = gzip.open(location, 'rb')\n",
    "\n",
    "        # Split the data set \n",
    "#         X_train, y_train, X_valid, y_valid = pickle.load(f)\n",
    "        train_set, valid_set, test_set = pickle.load(f)\n",
    "    \n",
    "        X_train, y_train = train_set\n",
    "        X_valid, y_valid = valid_set\n",
    "\n",
    "        # Extract only 3's and 8's for training set \n",
    "        self.X_train = X_train[np.logical_or( y_train==3, y_train == 8), :]\n",
    "        self.y_train = y_train[np.logical_or( y_train==3, y_train == 8)]\n",
    "        self.y_train = np.array([1 if y == 8 else -1 for y in self.y_train])\n",
    "        \n",
    "        # Shuffle the training data \n",
    "        shuff = np.arange(self.X_train.shape[0])\n",
    "        np.random.shuffle(shuff)\n",
    "        self.X_train = self.X_train[shuff,:]\n",
    "        self.y_train = self.y_train[shuff]\n",
    "\n",
    "        # Extract only 3's and 8's for validation set \n",
    "        self.X_valid = X_valid[np.logical_or( y_valid==3, y_valid == 8), :]\n",
    "        self.y_valid = y_valid[np.logical_or( y_valid==3, y_valid == 8)]\n",
    "        self.y_valid = np.array([1 if y == 8 else -1 for y in self.y_valid])\n",
    "        \n",
    "        f.close()"
   ]
  },
  {
   "cell_type": "code",
   "execution_count": 6,
   "metadata": {},
   "outputs": [],
   "source": [
    "data = ThreesAndEights(\"data/mnist.pklz\")"
   ]
  },
  {
   "cell_type": "markdown",
   "metadata": {},
   "source": [
    "Feel free to explore this data and get comfortable with it before proceeding further."
   ]
  },
  {
   "cell_type": "markdown",
   "metadata": {},
   "source": [
    "## Bagging\n",
    "Bootstrap aggregating, also called bagging, is a machine learning ensemble meta-algorithm designed to improve the stability and accuracy of machine learning algorithms used in statistical classification and regression. It also reduces variance and helps to avoid overfitting. Although it is usually applied to decision tree methods, it can be used with any type of method. Bagging is a special case of the model averaging approach.\n",
    "\n",
    "Given a standard training set $D$ of size n, bagging generates $N$ new training sets $D_i$, roughly each of size n * ratio, by sampling from $D$ uniformly and with replacement. By sampling with replacement, some observations may be repeated in each $D_i$ The $N$ models are fitted using the above $N$ bootstraped samples and combined by averaging the output (for regression) or voting (for classification). \n",
    "\n",
    "-Source [Wiki](https://en.wikipedia.org/wiki/Bootstrap_aggregating)"
   ]
  },
  {
   "cell_type": "markdown",
   "metadata": {},
   "source": [
    "## Implementing Bagging [5-points]\n",
    "***\n",
    "\n",
    "We've given you a skeleton of the class `BaggingClassifier` below which will train a classifier based on the decision trees as implemented by sklearn. Your tasks are as follows, please approach step by step to understand the code flow:\n",
    "* Implement `bootstrap` method which takes in two parameters (`X_train, y_train`) and returns a bootstrapped training set ($D_i$)\n",
    "* Implement `fit` method which takes in two parameters (`X_train, y_train`) and trains `N` number of base models on different bootstrap samples. You should call `bootstrap` method to get bootstrapped training data for each of your base model\n",
    "* Implement `voting` method which takes the predictions from learner trained on bootstrapped data points `y_hats` and returns final prediction as per majority rule. In case of ties, return either of the class randomly.\n",
    "* Implement `predict` method which takes in multiple data points and returns final prediction for each one of those. Please use the `voting` method to reach consensus on final prediction."
   ]
  },
  {
   "cell_type": "code",
   "execution_count": 391,
   "metadata": {},
   "outputs": [],
   "source": [
    "from sklearn.tree import DecisionTreeClassifier\n",
    "\n",
    "class BaggingClassifier:\n",
    "    def __init__(self, ratio = 0.20, N = 20, base=DecisionTreeClassifier(max_depth=4)):\n",
    "        \"\"\"\n",
    "        Create a new BaggingClassifier\n",
    "        \n",
    "        Args:\n",
    "            base (BaseEstimator, optional): Sklearn implementation of decision tree\n",
    "            ratio: ratio of number of data points in subsampled data to the actual training data\n",
    "            N: number of base estimator in the ensemble\n",
    "        \n",
    "        Attributes:\n",
    "            base (estimator): Sklearn implementation of decision tree\n",
    "            N: Number of decision trees\n",
    "            learners: List of models trained on bootstrapped data sample\n",
    "        \"\"\"\n",
    "        \n",
    "        assert ratio <= 1.0, \"Cannot have ratio greater than one\"\n",
    "        self.base = base\n",
    "        self.ratio = ratio\n",
    "        self.N = N\n",
    "        self.learners = []\n",
    "        \n",
    "    def fit(self, X_train, y_train):\n",
    "        \"\"\"\n",
    "        Train Bagging Ensemble Classifier on data\n",
    "        \n",
    "        Args:\n",
    "            X_train (ndarray): [n_samples x n_features] ndarray of training data   \n",
    "            y_train (ndarray): [n_samples] ndarray of data \n",
    "        \"\"\"\n",
    "        from sklearn.base import clone\n",
    "        for i in range(self.N): \n",
    "            h = clone(self.base)\n",
    "            boots = self.boostrap(X_train, y_train)\n",
    "            self.learners.append(h.fit(boots[0], boots[1]))\n",
    "        \n",
    "        #TODO: Implement functionality to fit models on the bootstrapped samples\n",
    "        # cloning sklearn models:\n",
    "        # from sklearn.base import clone\n",
    "        # h = clone(self.base)\n",
    "        \n",
    "        \n",
    "    def boostrap(self, X_train, y_train):\n",
    "        \"\"\"\n",
    "        Args:\n",
    "            n (int): total size of the training data\n",
    "            X_train (ndarray): [n_samples x n_features] ndarray of training data   \n",
    "            y_train (ndarray): [n_samples] ndarray of data \n",
    "        \"\"\"\n",
    "        n = self.ratio*len(X_train)\n",
    "        boot_Ind = np.random.choice(np.arange(len(X_train)), size = int(n), replace = True)\n",
    "        return X_train[boot_Ind], y_train[boot_Ind]\n",
    "    \n",
    "    def predict(self, X):\n",
    "        #print('BAGPRED')\n",
    "        \"\"\"\n",
    "        BaggingClassifier prediction for data points in X\n",
    "        \n",
    "        Args:\n",
    "            X (ndarray): [n_samples x n_features] ndarray of data \n",
    "            \n",
    "        Returns:\n",
    "            yhat (ndarray): [n_samples] ndarray of predicted labels {-1,1}\n",
    "        \"\"\"\n",
    "        yhat = []\n",
    "        for x in X:\n",
    "            y_hat = [learner.predict([x]) for learner in self.learners]\n",
    "            yhat.append(self.voting(y_hat))\n",
    "        return yhat\n",
    "        #TODO: Using the individual classifiers trained predict the final prediction using voting mechanism\n",
    "    \n",
    "    def voting(self, y_hats):\n",
    "        \"\"\"\n",
    "        Args:\n",
    "            y_hats (ndarray): [N] ndarray of data\n",
    "        Returns:\n",
    "            y_final : int, final prediction of the \n",
    "        \"\"\"\n",
    "        result = np.sum(y_hats)\n",
    "        if result == 0:\n",
    "            return np.random.choice([-1,1], size = 1)[0]\n",
    "        return np.sign(result)\n",
    "        #TODO: Implement majority voting scheme and incase of ties return random label"
   ]
  },
  {
   "cell_type": "markdown",
   "metadata": {},
   "source": [
    "## BaggingClassifier for Handwritten Digit Recognition [5-points]\n",
    "***\n",
    "\n",
    "After you've successfully completed `BaggingClassifier` find the optimal values of `ratio`, `N` and `depth` using k-fold cross validation. You are allowed to use sklearn library to split your training data in folds. Use the data from `ThreesAndEights` class initialized variable `data`. \n",
    "\n",
    "Justify why those values are optimal.\n",
    "\n",
    "Report accuracy on the validation data using the optimal parameter values."
   ]
  },
  {
   "cell_type": "code",
   "execution_count": 420,
   "metadata": {},
   "outputs": [
    {
     "name": "stdout",
     "output_type": "stream",
     "text": [
      "next loop\n",
      "next loop\n",
      "next loop\n"
     ]
    }
   ],
   "source": [
    "from sklearn.model_selection import KFold\n",
    "num_folds = 5\n",
    "folds = KFold(num_folds,True,1)\n",
    "k_fold_sets = folds.split(data.X_train)\n",
    "results_ratios = []\n",
    "print(\"next loop\")\n",
    "for rat in list(np.arange(0.1, 1, 0.1)):\n",
    "    average_acc = 0\n",
    "    for train,test in folds.split(data.X_train):\n",
    "        test_bag = BaggingClassifier(ratio = rat)\n",
    "        test_bag.fit(data.X_train[train], data.y_train[train])\n",
    "        predicted_y = np.array(test_bag.predict(data.X_train[test]))\n",
    "        mismatch = predicted_y != data.y_train[test]\n",
    "        average_acc += np.sum(mismatch)/len(predicted_y)\n",
    "    average_acc = average_acc/num_folds\n",
    "    results_ratios.append([rat,1-average_acc])\n",
    "print(\"next loop\")\n",
    "results_numT = []\n",
    "for NN in np.arange(1,16,2):\n",
    "    average_acc = 0\n",
    "    for train,test in folds.split(data.X_train):\n",
    "        test_bag = BaggingClassifier(N = NN)\n",
    "        test_bag.fit(data.X_train[train], data.y_train[train])\n",
    "        predicted_y = np.array(test_bag.predict(data.X_train[test]))\n",
    "        mismatch = predicted_y != data.y_train[test]\n",
    "        average_acc += np.sum(mismatch)/len(predicted_y)\n",
    "    average_acc = average_acc/num_folds\n",
    "    results_numT.append([NN,1-average_acc])\n",
    "results_depths = []\n",
    "print(\"next loop\")\n",
    "for dep in np.arange(1,21,2):\n",
    "    average_acc = 0\n",
    "    for train,test in folds.split(data.X_train):\n",
    "        test_bag = BaggingClassifier(base=DecisionTreeClassifier(max_depth=dep))\n",
    "        test_bag.fit(data.X_train[train], data.y_train[train])\n",
    "        predicted_y = np.array(test_bag.predict(data.X_train[test]))\n",
    "        mismatch = predicted_y != data.y_train[test]\n",
    "        average_acc += np.sum(mismatch)/len(predicted_y)\n",
    "        #print((rat,NN,dep),average_E)\n",
    "    average_acc = average_acc/num_folds\n",
    "    results_depths.append([dep,1-average_acc])"
   ]
  },
  {
   "cell_type": "code",
   "execution_count": 421,
   "metadata": {},
   "outputs": [
    {
     "name": "stdout",
     "output_type": "stream",
     "text": [
      "Results from 5-fold Cross Validation\n"
     ]
    },
    {
     "data": {
      "image/png": "[encoded data removed]",
      "text/plain": [
       "<Figure size 432x288 with 1 Axes>"
      ]
     },
     "metadata": {},
     "output_type": "display_data"
    },
    {
     "data": {
      "image/png": "[encoded data removed]",
      "text/plain": [
       "<Figure size 432x288 with 1 Axes>"
      ]
     },
     "metadata": {},
     "output_type": "display_data"
    },
    {
     "data": {
      "image/png": "[encoded data removed]",
      "text/plain": [
       "<Figure size 432x288 with 1 Axes>"
      ]
     },
     "metadata": {},
     "output_type": "display_data"
    }
   ],
   "source": [
    "print('Results from 5-fold Cross Validation')\n",
    "plt.scatter([x[0] for x in results_ratios], [x[1] for x in results_ratios])\n",
    "plt.xlabel('Ratios')\n",
    "plt.ylabel(\"Average Accuracy on Test Sets\")\n",
    "plt.show();\n",
    "plt.scatter([x[0] for x in results_numT], [x[1] for x in results_numT])\n",
    "plt.xlabel('Number of Trees')\n",
    "plt.ylabel(\"Average Accuracy on Test Sets\")\n",
    "plt.show();\n",
    "plt.scatter([x[0] for x in results_depths], [x[1] for x in results_depths])\n",
    "plt.xlabel('Maximum Depths')\n",
    "plt.ylabel(\"Average Accuracy on Test Sets\")\n",
    "plt.show();"
   ]
  },
  {
   "cell_type": "markdown",
   "metadata": {},
   "source": [
    "Based on the observed accuracies, the best results are seen when each parameter is at it's upper limit (roughly), however using these values is inefficient since most of the accuracy gains are seen for smaller values of the parameters. For the depth and number of trees, you reach a point of diminishing returns after a certain parameter value. For the tree depth and the ratio of the training data, you also run the risk of overfitting if you go too high. None of these plots have a discernible 'knee' point, that is, a point where the test accuracy clearly starts to decrease as x increases, so the optimal values will be chose by looking at points towards the start of the accuracy plateaus.\n",
    "\n",
    "For the ratios, the accuracy varies with no obvious trend, so this will choose a ratio of 0.5 since it had a relatively high accuracy. Using all of the data (so a ratio = 1) in conjunction with the other optimal parameters will likely yield the highest accuracy, however, as mentioned, it also has the potential to decrease the generalizability of the model and is computationally more burdensome when fitting the classifier. \n",
    "\n",
    "For the number of trees, the biggest accuracy jump is, unsurprisingly, between N = 1 and N = 4. The accuracy seems to slightly increase from there, but it is variable. Based on the results, I will choose N = 7, since it has a fairly high accuracy, is in that plateau region, and is an odd number, which would help when voting. \n",
    "\n",
    "For the depth of the tree, most of the accuracy gain is between depth = 1 and depth = 5, after which the accuracy continues to grow slowly. To avoid overfitting, will choose a point at the lower end of the plateau region (depths > 5), so will choose depth = 11.\n",
    "\n",
    "So, my chosen parameters are: ratio = 0.4, number of trees = 7, maximum depth = 11"
   ]
  },
  {
   "cell_type": "code",
   "execution_count": 419,
   "metadata": {},
   "outputs": [
    {
     "name": "stdout",
     "output_type": "stream",
     "text": [
      "0.9789112309955861\n"
     ]
    }
   ],
   "source": [
    "bag = BaggingClassifier(ratio = 0.4, N = 7, base=DecisionTreeClassifier(max_depth=11))\n",
    "bag.fit(data.X_train[train], data.y_train[train])\n",
    "predicted_y = np.array(test_bag.predict(data.X_valid))\n",
    "mismatch = predicted_y != data.y_valid\n",
    "acc = np.sum(mismatch)/len(predicted_y)\n",
    "print(1-acc)"
   ]
  },
  {
   "cell_type": "markdown",
   "metadata": {},
   "source": [
    "The accuracy on the validation set using the parameters above is 97.9%"
   ]
  },
  {
   "cell_type": "markdown",
   "metadata": {},
   "source": [
    "# Random Decision Tree [10-points]\n",
    "\n",
    "In this assignment you are going to implement a random decision tree using random vector method as discussed in the lecture.\n",
    "\n",
    "Best split: One that achieves maximum reduction in gini index across multiple candidate splits. (decided by `candidate_splits` attribute of the class `RandomDecisionTree`)\n",
    "\n",
    "Use `TreeNode` class as node abstraction to build the tree\n",
    "\n",
    "You are allowed to add new attributes in the `TreeNode` and `RandomDecisionTree` class - if that helps.\n",
    "\n",
    "Your tasks are as follows:\n",
    "* Implement `gini_index` method which takes in class labels as parameter and returns the gini impurity as measure of uncertainty\n",
    "\n",
    "* Implement `majority` method which picks the most frequent class label. In case of tie return any random class label\n",
    "\n",
    "* Implement `find_best_split` method which finds the random vector/hyperplane which causes most reduction in the gini index. \n",
    "\n",
    "* Implement `build_tree` method which uses `find_best_split` method to get the best random split vector for current set of training points. This vector partitions the training points into two sets, and you should call `build_tree` method on two partitioned sets and build left subtree and right subtree. Use `TreeNode` as abstraction for a node.\n",
    "\n",
    "> The method calls itself recursively to the generate left and right subtree till the point either `max_depth` is reached or no good random split is found.  When either of two cases is encountered, you should make that node as leaf and identify the label for that leaf to be the most frequent class (use `majority` method). Go through lecture slides for better understanding\n",
    "\n",
    "* Implement `predict` method which takes in multiple data points and returns final prediction for each one of those using the tree built. (`root` attribute of the class)"
   ]
  },
  {
   "cell_type": "code",
   "execution_count": 399,
   "metadata": {},
   "outputs": [],
   "source": [
    "class TreeNode:\n",
    "    def __init__(self):\n",
    "        self.left = None\n",
    "        self.right = None\n",
    "        self.isLeaf = False\n",
    "        self.label = None\n",
    "        self.split_vector = None\n",
    "\n",
    "    def getLabel(self):\n",
    "        if not self.isLeaf:\n",
    "            raise Exception(\"Should not to do getLabel on a non-leaf node\")\n",
    "        return self.label\n",
    "    \n",
    "class RandomDecisionTree:\n",
    "            \n",
    "    def __init__(self, candidate_splits = 100, depth = 10):\n",
    "        \"\"\"\n",
    "        Args:\n",
    "            candidate_splits (int) : number of random decision splits to test\n",
    "            depth (int) : maximum depth of the random decision tree\n",
    "        \"\"\"\n",
    "        self.candidate_splits = candidate_splits\n",
    "        self.depth = depth\n",
    "        self.root = None\n",
    "    \n",
    "    def fit(self, X_train, y_train):\n",
    "        \"\"\"\n",
    "        Args:\n",
    "            X_train (ndarray): [n_samples x n_features] ndarray of training data   \n",
    "            y_train (ndarray): [n_samples] ndarray of data\n",
    "            \n",
    "        \"\"\"\n",
    "        self.root = self.build_tree(X_train[:], y_train[:], 0)\n",
    "        return self\n",
    "        \n",
    "    def build_tree(self, X_train, y_train, height):\n",
    "        \"\"\"\n",
    "        Args:\n",
    "            X_train (ndarray): [n_samples x n_features] ndarray of training data   \n",
    "            y_train (ndarray): [n_samples] ndarray of data\n",
    "            \n",
    "        \"\"\"\n",
    "        node = TreeNode()\n",
    "        if height == self.depth or len(X_train)< 2:\n",
    "            node.isLeaf = True\n",
    "            node.label = self.majority(y_train)\n",
    "            return node\n",
    "        height += 1\n",
    "        best_split = self.find_best_split(X_train, y_train)\n",
    "        ri = []\n",
    "        li = []\n",
    "        for i,x in enumerate(X_train):\n",
    "            if np.dot(x,best_split) >= 0:\n",
    "                ri.append(i)\n",
    "            else:\n",
    "                li.append(i)\n",
    "        if len(li) == 0 or len(ri) == 0: #no actual split found \n",
    "            node.isLeaf = True\n",
    "            node.label = self.majority(y_train)\n",
    "            return node\n",
    "        right_node = self.build_tree(X_train[ri], y_train[ri], height)\n",
    "        left_node = self.build_tree(X_train[li], y_train[li], height)\n",
    "        node.right = right_node\n",
    "        node.left = left_node\n",
    "        node.split_vector = best_split\n",
    "        return node\n",
    "    \n",
    "    def find_best_split(self, X_train, y_train):\n",
    "        \"\"\"\n",
    "        Args:\n",
    "            X_train (ndarray): [n_samples x n_features] ndarray of training data   \n",
    "            y_train (ndarray): [n_samples] ndarray of data\n",
    "            \n",
    "        \"\"\"\n",
    "        #print(len(X_train))\n",
    "        split_vector = None\n",
    "        test_vectors = [np.random.random(len(X_train[0])) - 0.5 for x in range(self.candidate_splits)]\n",
    "        max_bene = -1\n",
    "        gini_tot = self.gini_index(y_train)\n",
    "        tot = len(X_train)\n",
    "        for v in test_vectors:\n",
    "            ri = []\n",
    "            li = []\n",
    "            for i,x in enumerate(X_train):\n",
    "                if np.dot(x,v) >= 0:\n",
    "                    ri.append(i)\n",
    "                else:\n",
    "                    li.append(i)\n",
    "            p_L = len(li)/tot\n",
    "            p_R = len(ri)/tot\n",
    "            gini_L = self.gini_index(y_train[li])\n",
    "            gini_R = self.gini_index(y_train[ri])\n",
    "            bene = (gini_tot - (p_R*gini_R+p_L*gini_L))*tot\n",
    "            if bene > max_bene:\n",
    "                max_bene = bene\n",
    "                split_vector = v\n",
    "        return split_vector\n",
    "            \n",
    "        \n",
    "    def gini_index(self, y):\n",
    "        \"\"\"\n",
    "        Args:\n",
    "            y (ndarray): [n_samples] ndarray of data\n",
    "        \"\"\"\n",
    "        tot_pos = (y == 1).sum()\n",
    "        tot = len(y)\n",
    "        if tot == 0:\n",
    "            return 0\n",
    "        prop_pos = tot_pos/tot\n",
    "        return 2*(prop_pos)*(1-prop_pos)\n",
    "            \n",
    "    \n",
    "    def majority(self, y):\n",
    "        \"\"\"\n",
    "        Return the major class in ndarray y\n",
    "        \"\"\"\n",
    "        result = np.sum(y)\n",
    "        if result == 0:\n",
    "            return np.random.choice([-1,1], size = 1)[0]\n",
    "        return np.sign(result)\n",
    "    \n",
    "    def predict(self, X):\n",
    "        \n",
    "        \"\"\"\n",
    "        BaggingClassifier prediction for new data points in X\n",
    "        \n",
    "        Args:\n",
    "            X (ndarray): [n_samples x n_features] ndarray of data \n",
    "            \n",
    "        Returns:\n",
    "            yhat (ndarray): [n_samples] ndarray of predicted labels {-1,1}\n",
    "        \"\"\"\n",
    "        all_yhat = []\n",
    "        for x in X:\n",
    "            node = self.root\n",
    "            while not node.isLeaf:\n",
    "                direction = np.dot(node.split_vector, x)\n",
    "                if direction >= 0:\n",
    "                    node = node.right\n",
    "                else:\n",
    "                    node = node.left\n",
    "            all_yhat.append(node.getLabel())\n",
    "        return np.array(all_yhat)\n",
    "            "
   ]
  },
  {
   "cell_type": "markdown",
   "metadata": {},
   "source": [
    "## RandomDecisionTree for Handwritten Digit Recognition\n",
    "\n",
    "After you've successfully completed `RandomDecisionTree`, and train using the default values in the constructor and report accuracy on the test set. Use the data from `ThreesAndEights` class initialized variable `data` "
   ]
  },
  {
   "cell_type": "code",
   "execution_count": 400,
   "metadata": {},
   "outputs": [
    {
     "data": {
      "text/plain": [
       "<__main__.RandomDecisionTree at 0x11199b7b8>"
      ]
     },
     "execution_count": 400,
     "metadata": {},
     "output_type": "execute_result"
    }
   ],
   "source": [
    "test_tree = RandomDecisionTree()\n",
    "test_tree.fit(data.X_train, data.y_train)"
   ]
  },
  {
   "cell_type": "code",
   "execution_count": 401,
   "metadata": {},
   "outputs": [
    {
     "name": "stdout",
     "output_type": "stream",
     "text": [
      "0.900931829328102\n"
     ]
    }
   ],
   "source": [
    "y_hat = test_tree.predict(data.X_valid)\n",
    "accuracy = (y_hat != data.y_valid).sum()/len(y_hat)\n",
    "print(1-accuracy)"
   ]
  },
  {
   "cell_type": "markdown",
   "metadata": {},
   "source": [
    "The observed accuracy on the test set was approximately 90%"
   ]
  },
  {
   "cell_type": "markdown",
   "metadata": {},
   "source": [
    "# Random Forest [5-points]\n",
    "Random forests or random decision forests are an ensemble learning method for classification, regression and other tasks, that operate by constructing a multitude of decision trees at training time and outputting the class that is the mode of the classes (classification) or mean prediction (regression) of the individual trees. Random decision forests correct for decision trees' habit of overfitting to their training set.\n",
    "\n",
    "Random forest trains random decision trees on bootstrapped training points. Thus, you can implementation of methods (`bootstrap`, `predict`) from `BaggingClassifier` class directly. Only difference being, you have to use the `RandomDecisionTree` as base which you implemented previously instead of sklearn's implementation of `DecisionTreeClassifier`). Implement the `fit` method in the class below accordingly."
   ]
  },
  {
   "cell_type": "code",
   "execution_count": 425,
   "metadata": {},
   "outputs": [],
   "source": [
    "class RandomForest(BaggingClassifier):\n",
    "    def __init__(self, ratio = 0.20, N = 20, max_depth = 10, candidate_splits = 100):\n",
    "        self.ratio = ratio\n",
    "        self.N = N\n",
    "        self.learners = []\n",
    "        self.candidate_splits = candidate_splits\n",
    "        self.max_depth = max_depth\n",
    "        \n",
    "    def fit(self, X_train, y_train):\n",
    "        \"\"\"\n",
    "        Train Bagging Ensemble Classifier on data\n",
    "        \n",
    "        Args:\n",
    "            X_train (ndarray): [n_samples x n_features] ndarray of training data   \n",
    "            y_train (ndarray): [n_samples] ndarray of data \n",
    "        \"\"\"\n",
    "        for i in range(self.N): \n",
    "            print('learner')\n",
    "            h = RandomDecisionTree(candidate_splits = self.candidate_splits, depth = self.max_depth)\n",
    "            boots = self.boostrap(X_train, y_train)\n",
    "            self.learners.append(h.fit(boots[0], boots[1]))"
   ]
  },
  {
   "cell_type": "markdown",
   "metadata": {},
   "source": [
    "## RandomForest for Handwritten Digit Recognition [5-points]\n",
    "***\n",
    "\n",
    "After you've successfully completed `RandomForest` find the optimal values of `ratio`, `N`, `candidate_splits` and `depth` using k-fold cross validation on. Feel free to use sklearn library to split your training data. Use the data from `ThreesAndEights` class intialized variable `data`. \n",
    "\n",
    "Justify why those values are optimal.\n",
    "\n",
    "Report best accuracy on the testing data using those optimal parameter values."
   ]
  },
  {
   "cell_type": "code",
   "execution_count": 402,
   "metadata": {},
   "outputs": [
    {
     "name": "stdout",
     "output_type": "stream",
     "text": [
      "BAGPRED\n",
      "BAGPRED\n",
      "BAGPRED\n",
      "BAGPRED\n",
      "BAGPRED\n",
      "BAGPRED\n",
      "BAGPRED\n",
      "BAGPRED\n",
      "BAGPRED\n",
      "BAGPRED\n",
      "BAGPRED\n",
      "BAGPRED\n",
      "BAGPRED\n",
      "BAGPRED\n",
      "BAGPRED\n",
      "BAGPRED\n",
      "BAGPRED\n",
      "BAGPRED\n",
      "BAGPRED\n",
      "BAGPRED\n",
      "BAGPRED\n",
      "BAGPRED\n",
      "BAGPRED\n",
      "BAGPRED\n",
      "BAGPRED\n",
      "BAGPRED\n",
      "BAGPRED\n",
      "BAGPRED\n",
      "BAGPRED\n",
      "BAGPRED\n",
      "BAGPRED\n",
      "BAGPRED\n",
      "BAGPRED\n",
      "BAGPRED\n",
      "BAGPRED\n",
      "BAGPRED\n",
      "BAGPRED\n",
      "BAGPRED\n",
      "BAGPRED\n",
      "BAGPRED\n",
      "BAGPRED\n",
      "BAGPRED\n",
      "BAGPRED\n",
      "BAGPRED\n",
      "BAGPRED\n",
      "BAGPRED\n",
      "BAGPRED\n",
      "BAGPRED\n",
      "BAGPRED\n",
      "BAGPRED\n",
      "BAGPRED\n",
      "BAGPRED\n",
      "BAGPRED\n",
      "BAGPRED\n",
      "BAGPRED\n",
      "BAGPRED\n",
      "BAGPRED\n",
      "BAGPRED\n",
      "BAGPRED\n",
      "BAGPRED\n",
      "BAGPRED\n",
      "BAGPRED\n",
      "BAGPRED\n",
      "BAGPRED\n",
      "BAGPRED\n",
      "BAGPRED\n",
      "BAGPRED\n",
      "BAGPRED\n",
      "BAGPRED\n",
      "BAGPRED\n",
      "BAGPRED\n",
      "BAGPRED\n",
      "BAGPRED\n",
      "BAGPRED\n",
      "BAGPRED\n",
      "BAGPRED\n",
      "BAGPRED\n",
      "BAGPRED\n",
      "BAGPRED\n",
      "BAGPRED\n",
      "BAGPRED\n",
      "BAGPRED\n",
      "BAGPRED\n",
      "BAGPRED\n",
      "BAGPRED\n",
      "BAGPRED\n",
      "BAGPRED\n",
      "BAGPRED\n",
      "BAGPRED\n",
      "BAGPRED\n",
      "BAGPRED\n",
      "BAGPRED\n",
      "BAGPRED\n",
      "BAGPRED\n",
      "BAGPRED\n",
      "BAGPRED\n",
      "BAGPRED\n",
      "BAGPRED\n",
      "BAGPRED\n",
      "BAGPRED\n",
      "BAGPRED\n",
      "BAGPRED\n",
      "BAGPRED\n",
      "BAGPRED\n",
      "BAGPRED\n",
      "BAGPRED\n",
      "BAGPRED\n",
      "BAGPRED\n",
      "BAGPRED\n",
      "BAGPRED\n",
      "BAGPRED\n",
      "BAGPRED\n",
      "BAGPRED\n",
      "BAGPRED\n",
      "BAGPRED\n",
      "BAGPRED\n",
      "BAGPRED\n",
      "BAGPRED\n",
      "BAGPRED\n",
      "BAGPRED\n",
      "BAGPRED\n",
      "BAGPRED\n",
      "BAGPRED\n",
      "BAGPRED\n",
      "BAGPRED\n",
      "BAGPRED\n",
      "BAGPRED\n",
      "BAGPRED\n",
      "BAGPRED\n",
      "BAGPRED\n",
      "BAGPRED\n",
      "BAGPRED\n",
      "BAGPRED\n",
      "BAGPRED\n",
      "BAGPRED\n",
      "BAGPRED\n",
      "BAGPRED\n",
      "BAGPRED\n",
      "BAGPRED\n",
      "BAGPRED\n",
      "BAGPRED\n",
      "BAGPRED\n",
      "BAGPRED\n",
      "BAGPRED\n",
      "BAGPRED\n",
      "BAGPRED\n",
      "BAGPRED\n",
      "BAGPRED\n",
      "BAGPRED\n",
      "BAGPRED\n",
      "BAGPRED\n",
      "BAGPRED\n",
      "BAGPRED\n",
      "BAGPRED\n",
      "BAGPRED\n",
      "BAGPRED\n",
      "BAGPRED\n",
      "BAGPRED\n",
      "BAGPRED\n",
      "BAGPRED\n",
      "BAGPRED\n",
      "BAGPRED\n",
      "BAGPRED\n",
      "BAGPRED\n",
      "BAGPRED\n",
      "BAGPRED\n",
      "BAGPRED\n",
      "BAGPRED\n",
      "BAGPRED\n",
      "BAGPRED\n",
      "BAGPRED\n",
      "BAGPRED\n",
      "BAGPRED\n",
      "BAGPRED\n",
      "BAGPRED\n",
      "BAGPRED\n",
      "BAGPRED\n"
     ]
    },
    {
     "ename": "KeyboardInterrupt",
     "evalue": "",
     "output_type": "error",
     "traceback": [
      "\u001b[0;31m---------------------------------------------------------------------------\u001b[0m",
      "\u001b[0;31mKeyboardInterrupt\u001b[0m                         Traceback (most recent call last)",
      "\u001b[0;32m<ipython-input-402-f56b3c94c92d>\u001b[0m in \u001b[0;36m<module>\u001b[0;34m()\u001b[0m\n\u001b[1;32m     32\u001b[0m     \u001b[0mrandF\u001b[0m \u001b[0;34m=\u001b[0m \u001b[0mRandomForest\u001b[0m\u001b[0;34m(\u001b[0m\u001b[0mcandidate_splits\u001b[0m \u001b[0;34m=\u001b[0m \u001b[0mcs\u001b[0m\u001b[0;34m)\u001b[0m\u001b[0;34m\u001b[0m\u001b[0m\n\u001b[1;32m     33\u001b[0m     \u001b[0;32mfor\u001b[0m \u001b[0mtrain\u001b[0m\u001b[0;34m,\u001b[0m\u001b[0mtest\u001b[0m \u001b[0;32min\u001b[0m \u001b[0mfolds\u001b[0m\u001b[0;34m.\u001b[0m\u001b[0msplit\u001b[0m\u001b[0;34m(\u001b[0m\u001b[0mdata\u001b[0m\u001b[0;34m.\u001b[0m\u001b[0mX_train\u001b[0m\u001b[0;34m)\u001b[0m\u001b[0;34m:\u001b[0m\u001b[0;34m\u001b[0m\u001b[0m\n\u001b[0;32m---> 34\u001b[0;31m         \u001b[0mrandF\u001b[0m\u001b[0;34m.\u001b[0m\u001b[0mfit\u001b[0m\u001b[0;34m(\u001b[0m\u001b[0mdata\u001b[0m\u001b[0;34m.\u001b[0m\u001b[0mX_train\u001b[0m\u001b[0;34m[\u001b[0m\u001b[0mtrain\u001b[0m\u001b[0;34m]\u001b[0m\u001b[0;34m,\u001b[0m \u001b[0mdata\u001b[0m\u001b[0;34m.\u001b[0m\u001b[0my_train\u001b[0m\u001b[0;34m[\u001b[0m\u001b[0mtrain\u001b[0m\u001b[0;34m]\u001b[0m\u001b[0;34m)\u001b[0m\u001b[0;34m\u001b[0m\u001b[0m\n\u001b[0m\u001b[1;32m     35\u001b[0m         \u001b[0mpredicted_y\u001b[0m \u001b[0;34m=\u001b[0m \u001b[0mnp\u001b[0m\u001b[0;34m.\u001b[0m\u001b[0marray\u001b[0m\u001b[0;34m(\u001b[0m\u001b[0mrandF\u001b[0m\u001b[0;34m.\u001b[0m\u001b[0mpredict\u001b[0m\u001b[0;34m(\u001b[0m\u001b[0mdata\u001b[0m\u001b[0;34m.\u001b[0m\u001b[0mX_train\u001b[0m\u001b[0;34m[\u001b[0m\u001b[0mtest\u001b[0m\u001b[0;34m]\u001b[0m\u001b[0;34m)\u001b[0m\u001b[0;34m)\u001b[0m\u001b[0;34m\u001b[0m\u001b[0m\n\u001b[1;32m     36\u001b[0m         \u001b[0mmismatch\u001b[0m \u001b[0;34m=\u001b[0m \u001b[0mpredicted_y\u001b[0m \u001b[0;34m!=\u001b[0m \u001b[0mdata\u001b[0m\u001b[0;34m.\u001b[0m\u001b[0my_train\u001b[0m\u001b[0;34m[\u001b[0m\u001b[0mtest\u001b[0m\u001b[0;34m]\u001b[0m\u001b[0;34m\u001b[0m\u001b[0m\n",
      "\u001b[0;32m<ipython-input-364-091163ba15ea>\u001b[0m in \u001b[0;36mfit\u001b[0;34m(self, X_train, y_train)\u001b[0m\n\u001b[1;32m     18\u001b[0m             \u001b[0mh\u001b[0m \u001b[0;34m=\u001b[0m \u001b[0mRandomDecisionTree\u001b[0m\u001b[0;34m(\u001b[0m\u001b[0mcandidate_splits\u001b[0m \u001b[0;34m=\u001b[0m \u001b[0mself\u001b[0m\u001b[0;34m.\u001b[0m\u001b[0mcandidate_splits\u001b[0m\u001b[0;34m,\u001b[0m \u001b[0mdepth\u001b[0m \u001b[0;34m=\u001b[0m \u001b[0mself\u001b[0m\u001b[0;34m.\u001b[0m\u001b[0mmax_depth\u001b[0m\u001b[0;34m)\u001b[0m\u001b[0;34m\u001b[0m\u001b[0m\n\u001b[1;32m     19\u001b[0m             \u001b[0mboots\u001b[0m \u001b[0;34m=\u001b[0m \u001b[0mself\u001b[0m\u001b[0;34m.\u001b[0m\u001b[0mboostrap\u001b[0m\u001b[0;34m(\u001b[0m\u001b[0mX_train\u001b[0m\u001b[0;34m,\u001b[0m \u001b[0my_train\u001b[0m\u001b[0;34m)\u001b[0m\u001b[0;34m\u001b[0m\u001b[0m\n\u001b[0;32m---> 20\u001b[0;31m             \u001b[0mself\u001b[0m\u001b[0;34m.\u001b[0m\u001b[0mlearners\u001b[0m\u001b[0;34m.\u001b[0m\u001b[0mappend\u001b[0m\u001b[0;34m(\u001b[0m\u001b[0mh\u001b[0m\u001b[0;34m.\u001b[0m\u001b[0mfit\u001b[0m\u001b[0;34m(\u001b[0m\u001b[0mboots\u001b[0m\u001b[0;34m[\u001b[0m\u001b[0;36m0\u001b[0m\u001b[0;34m]\u001b[0m\u001b[0;34m,\u001b[0m \u001b[0mboots\u001b[0m\u001b[0;34m[\u001b[0m\u001b[0;36m1\u001b[0m\u001b[0;34m]\u001b[0m\u001b[0;34m)\u001b[0m\u001b[0;34m)\u001b[0m\u001b[0;34m\u001b[0m\u001b[0m\n\u001b[0m",
      "\u001b[0;32m<ipython-input-399-6585e37d03f8>\u001b[0m in \u001b[0;36mfit\u001b[0;34m(self, X_train, y_train)\u001b[0m\n\u001b[1;32m     31\u001b[0m \u001b[0;34m\u001b[0m\u001b[0m\n\u001b[1;32m     32\u001b[0m         \"\"\"\n\u001b[0;32m---> 33\u001b[0;31m         \u001b[0mself\u001b[0m\u001b[0;34m.\u001b[0m\u001b[0mroot\u001b[0m \u001b[0;34m=\u001b[0m \u001b[0mself\u001b[0m\u001b[0;34m.\u001b[0m\u001b[0mbuild_tree\u001b[0m\u001b[0;34m(\u001b[0m\u001b[0mX_train\u001b[0m\u001b[0;34m[\u001b[0m\u001b[0;34m:\u001b[0m\u001b[0;34m]\u001b[0m\u001b[0;34m,\u001b[0m \u001b[0my_train\u001b[0m\u001b[0;34m[\u001b[0m\u001b[0;34m:\u001b[0m\u001b[0;34m]\u001b[0m\u001b[0;34m,\u001b[0m \u001b[0;36m0\u001b[0m\u001b[0;34m)\u001b[0m\u001b[0;34m\u001b[0m\u001b[0m\n\u001b[0m\u001b[1;32m     34\u001b[0m         \u001b[0;32mreturn\u001b[0m \u001b[0mself\u001b[0m\u001b[0;34m\u001b[0m\u001b[0m\n\u001b[1;32m     35\u001b[0m \u001b[0;34m\u001b[0m\u001b[0m\n",
      "\u001b[0;32m<ipython-input-399-6585e37d03f8>\u001b[0m in \u001b[0;36mbuild_tree\u001b[0;34m(self, X_train, y_train, height)\u001b[0m\n\u001b[1;32m     60\u001b[0m             \u001b[0;32mreturn\u001b[0m \u001b[0mnode\u001b[0m\u001b[0;34m\u001b[0m\u001b[0m\n\u001b[1;32m     61\u001b[0m         \u001b[0mright_node\u001b[0m \u001b[0;34m=\u001b[0m \u001b[0mself\u001b[0m\u001b[0;34m.\u001b[0m\u001b[0mbuild_tree\u001b[0m\u001b[0;34m(\u001b[0m\u001b[0mX_train\u001b[0m\u001b[0;34m[\u001b[0m\u001b[0mri\u001b[0m\u001b[0;34m]\u001b[0m\u001b[0;34m,\u001b[0m \u001b[0my_train\u001b[0m\u001b[0;34m[\u001b[0m\u001b[0mri\u001b[0m\u001b[0;34m]\u001b[0m\u001b[0;34m,\u001b[0m \u001b[0mheight\u001b[0m\u001b[0;34m)\u001b[0m\u001b[0;34m\u001b[0m\u001b[0m\n\u001b[0;32m---> 62\u001b[0;31m         \u001b[0mleft_node\u001b[0m \u001b[0;34m=\u001b[0m \u001b[0mself\u001b[0m\u001b[0;34m.\u001b[0m\u001b[0mbuild_tree\u001b[0m\u001b[0;34m(\u001b[0m\u001b[0mX_train\u001b[0m\u001b[0;34m[\u001b[0m\u001b[0mli\u001b[0m\u001b[0;34m]\u001b[0m\u001b[0;34m,\u001b[0m \u001b[0my_train\u001b[0m\u001b[0;34m[\u001b[0m\u001b[0mli\u001b[0m\u001b[0;34m]\u001b[0m\u001b[0;34m,\u001b[0m \u001b[0mheight\u001b[0m\u001b[0;34m)\u001b[0m\u001b[0;34m\u001b[0m\u001b[0m\n\u001b[0m\u001b[1;32m     63\u001b[0m         \u001b[0mnode\u001b[0m\u001b[0;34m.\u001b[0m\u001b[0mright\u001b[0m \u001b[0;34m=\u001b[0m \u001b[0mright_node\u001b[0m\u001b[0;34m\u001b[0m\u001b[0m\n\u001b[1;32m     64\u001b[0m         \u001b[0mnode\u001b[0m\u001b[0;34m.\u001b[0m\u001b[0mleft\u001b[0m \u001b[0;34m=\u001b[0m \u001b[0mleft_node\u001b[0m\u001b[0;34m\u001b[0m\u001b[0m\n",
      "\u001b[0;32m<ipython-input-399-6585e37d03f8>\u001b[0m in \u001b[0;36mbuild_tree\u001b[0;34m(self, X_train, y_train, height)\u001b[0m\n\u001b[1;32m     60\u001b[0m             \u001b[0;32mreturn\u001b[0m \u001b[0mnode\u001b[0m\u001b[0;34m\u001b[0m\u001b[0m\n\u001b[1;32m     61\u001b[0m         \u001b[0mright_node\u001b[0m \u001b[0;34m=\u001b[0m \u001b[0mself\u001b[0m\u001b[0;34m.\u001b[0m\u001b[0mbuild_tree\u001b[0m\u001b[0;34m(\u001b[0m\u001b[0mX_train\u001b[0m\u001b[0;34m[\u001b[0m\u001b[0mri\u001b[0m\u001b[0;34m]\u001b[0m\u001b[0;34m,\u001b[0m \u001b[0my_train\u001b[0m\u001b[0;34m[\u001b[0m\u001b[0mri\u001b[0m\u001b[0;34m]\u001b[0m\u001b[0;34m,\u001b[0m \u001b[0mheight\u001b[0m\u001b[0;34m)\u001b[0m\u001b[0;34m\u001b[0m\u001b[0m\n\u001b[0;32m---> 62\u001b[0;31m         \u001b[0mleft_node\u001b[0m \u001b[0;34m=\u001b[0m \u001b[0mself\u001b[0m\u001b[0;34m.\u001b[0m\u001b[0mbuild_tree\u001b[0m\u001b[0;34m(\u001b[0m\u001b[0mX_train\u001b[0m\u001b[0;34m[\u001b[0m\u001b[0mli\u001b[0m\u001b[0;34m]\u001b[0m\u001b[0;34m,\u001b[0m \u001b[0my_train\u001b[0m\u001b[0;34m[\u001b[0m\u001b[0mli\u001b[0m\u001b[0;34m]\u001b[0m\u001b[0;34m,\u001b[0m \u001b[0mheight\u001b[0m\u001b[0;34m)\u001b[0m\u001b[0;34m\u001b[0m\u001b[0m\n\u001b[0m\u001b[1;32m     63\u001b[0m         \u001b[0mnode\u001b[0m\u001b[0;34m.\u001b[0m\u001b[0mright\u001b[0m \u001b[0;34m=\u001b[0m \u001b[0mright_node\u001b[0m\u001b[0;34m\u001b[0m\u001b[0m\n\u001b[1;32m     64\u001b[0m         \u001b[0mnode\u001b[0m\u001b[0;34m.\u001b[0m\u001b[0mleft\u001b[0m \u001b[0;34m=\u001b[0m \u001b[0mleft_node\u001b[0m\u001b[0;34m\u001b[0m\u001b[0m\n",
      "\u001b[0;32m<ipython-input-399-6585e37d03f8>\u001b[0m in \u001b[0;36mbuild_tree\u001b[0;34m(self, X_train, y_train, height)\u001b[0m\n\u001b[1;32m     59\u001b[0m             \u001b[0mnode\u001b[0m\u001b[0;34m.\u001b[0m\u001b[0mlabel\u001b[0m \u001b[0;34m=\u001b[0m \u001b[0mself\u001b[0m\u001b[0;34m.\u001b[0m\u001b[0mmajority\u001b[0m\u001b[0;34m(\u001b[0m\u001b[0my_train\u001b[0m\u001b[0;34m)\u001b[0m\u001b[0;34m\u001b[0m\u001b[0m\n\u001b[1;32m     60\u001b[0m             \u001b[0;32mreturn\u001b[0m \u001b[0mnode\u001b[0m\u001b[0;34m\u001b[0m\u001b[0m\n\u001b[0;32m---> 61\u001b[0;31m         \u001b[0mright_node\u001b[0m \u001b[0;34m=\u001b[0m \u001b[0mself\u001b[0m\u001b[0;34m.\u001b[0m\u001b[0mbuild_tree\u001b[0m\u001b[0;34m(\u001b[0m\u001b[0mX_train\u001b[0m\u001b[0;34m[\u001b[0m\u001b[0mri\u001b[0m\u001b[0;34m]\u001b[0m\u001b[0;34m,\u001b[0m \u001b[0my_train\u001b[0m\u001b[0;34m[\u001b[0m\u001b[0mri\u001b[0m\u001b[0;34m]\u001b[0m\u001b[0;34m,\u001b[0m \u001b[0mheight\u001b[0m\u001b[0;34m)\u001b[0m\u001b[0;34m\u001b[0m\u001b[0m\n\u001b[0m\u001b[1;32m     62\u001b[0m         \u001b[0mleft_node\u001b[0m \u001b[0;34m=\u001b[0m \u001b[0mself\u001b[0m\u001b[0;34m.\u001b[0m\u001b[0mbuild_tree\u001b[0m\u001b[0;34m(\u001b[0m\u001b[0mX_train\u001b[0m\u001b[0;34m[\u001b[0m\u001b[0mli\u001b[0m\u001b[0;34m]\u001b[0m\u001b[0;34m,\u001b[0m \u001b[0my_train\u001b[0m\u001b[0;34m[\u001b[0m\u001b[0mli\u001b[0m\u001b[0;34m]\u001b[0m\u001b[0;34m,\u001b[0m \u001b[0mheight\u001b[0m\u001b[0;34m)\u001b[0m\u001b[0;34m\u001b[0m\u001b[0m\n\u001b[1;32m     63\u001b[0m         \u001b[0mnode\u001b[0m\u001b[0;34m.\u001b[0m\u001b[0mright\u001b[0m \u001b[0;34m=\u001b[0m \u001b[0mright_node\u001b[0m\u001b[0;34m\u001b[0m\u001b[0m\n",
      "\u001b[0;32m<ipython-input-399-6585e37d03f8>\u001b[0m in \u001b[0;36mbuild_tree\u001b[0;34m(self, X_train, y_train, height)\u001b[0m\n\u001b[1;32m     60\u001b[0m             \u001b[0;32mreturn\u001b[0m \u001b[0mnode\u001b[0m\u001b[0;34m\u001b[0m\u001b[0m\n\u001b[1;32m     61\u001b[0m         \u001b[0mright_node\u001b[0m \u001b[0;34m=\u001b[0m \u001b[0mself\u001b[0m\u001b[0;34m.\u001b[0m\u001b[0mbuild_tree\u001b[0m\u001b[0;34m(\u001b[0m\u001b[0mX_train\u001b[0m\u001b[0;34m[\u001b[0m\u001b[0mri\u001b[0m\u001b[0;34m]\u001b[0m\u001b[0;34m,\u001b[0m \u001b[0my_train\u001b[0m\u001b[0;34m[\u001b[0m\u001b[0mri\u001b[0m\u001b[0;34m]\u001b[0m\u001b[0;34m,\u001b[0m \u001b[0mheight\u001b[0m\u001b[0;34m)\u001b[0m\u001b[0;34m\u001b[0m\u001b[0m\n\u001b[0;32m---> 62\u001b[0;31m         \u001b[0mleft_node\u001b[0m \u001b[0;34m=\u001b[0m \u001b[0mself\u001b[0m\u001b[0;34m.\u001b[0m\u001b[0mbuild_tree\u001b[0m\u001b[0;34m(\u001b[0m\u001b[0mX_train\u001b[0m\u001b[0;34m[\u001b[0m\u001b[0mli\u001b[0m\u001b[0;34m]\u001b[0m\u001b[0;34m,\u001b[0m \u001b[0my_train\u001b[0m\u001b[0;34m[\u001b[0m\u001b[0mli\u001b[0m\u001b[0;34m]\u001b[0m\u001b[0;34m,\u001b[0m \u001b[0mheight\u001b[0m\u001b[0;34m)\u001b[0m\u001b[0;34m\u001b[0m\u001b[0m\n\u001b[0m\u001b[1;32m     63\u001b[0m         \u001b[0mnode\u001b[0m\u001b[0;34m.\u001b[0m\u001b[0mright\u001b[0m \u001b[0;34m=\u001b[0m \u001b[0mright_node\u001b[0m\u001b[0;34m\u001b[0m\u001b[0m\n\u001b[1;32m     64\u001b[0m         \u001b[0mnode\u001b[0m\u001b[0;34m.\u001b[0m\u001b[0mleft\u001b[0m \u001b[0;34m=\u001b[0m \u001b[0mleft_node\u001b[0m\u001b[0;34m\u001b[0m\u001b[0m\n",
      "\u001b[0;32m<ipython-input-399-6585e37d03f8>\u001b[0m in \u001b[0;36mbuild_tree\u001b[0;34m(self, X_train, y_train, height)\u001b[0m\n\u001b[1;32m     47\u001b[0m             \u001b[0;32mreturn\u001b[0m \u001b[0mnode\u001b[0m\u001b[0;34m\u001b[0m\u001b[0m\n\u001b[1;32m     48\u001b[0m         \u001b[0mheight\u001b[0m \u001b[0;34m+=\u001b[0m \u001b[0;36m1\u001b[0m\u001b[0;34m\u001b[0m\u001b[0m\n\u001b[0;32m---> 49\u001b[0;31m         \u001b[0mbest_split\u001b[0m \u001b[0;34m=\u001b[0m \u001b[0mself\u001b[0m\u001b[0;34m.\u001b[0m\u001b[0mfind_best_split\u001b[0m\u001b[0;34m(\u001b[0m\u001b[0mX_train\u001b[0m\u001b[0;34m,\u001b[0m \u001b[0my_train\u001b[0m\u001b[0;34m)\u001b[0m\u001b[0;34m\u001b[0m\u001b[0m\n\u001b[0m\u001b[1;32m     50\u001b[0m         \u001b[0mri\u001b[0m \u001b[0;34m=\u001b[0m \u001b[0;34m[\u001b[0m\u001b[0;34m]\u001b[0m\u001b[0;34m\u001b[0m\u001b[0m\n\u001b[1;32m     51\u001b[0m         \u001b[0mli\u001b[0m \u001b[0;34m=\u001b[0m \u001b[0;34m[\u001b[0m\u001b[0;34m]\u001b[0m\u001b[0;34m\u001b[0m\u001b[0m\n",
      "\u001b[0;32m<ipython-input-399-6585e37d03f8>\u001b[0m in \u001b[0;36mfind_best_split\u001b[0;34m(self, X_train, y_train)\u001b[0m\n\u001b[1;32m     83\u001b[0m             \u001b[0mli\u001b[0m \u001b[0;34m=\u001b[0m \u001b[0;34m[\u001b[0m\u001b[0;34m]\u001b[0m\u001b[0;34m\u001b[0m\u001b[0m\n\u001b[1;32m     84\u001b[0m             \u001b[0;32mfor\u001b[0m \u001b[0mi\u001b[0m\u001b[0;34m,\u001b[0m\u001b[0mx\u001b[0m \u001b[0;32min\u001b[0m \u001b[0menumerate\u001b[0m\u001b[0;34m(\u001b[0m\u001b[0mX_train\u001b[0m\u001b[0;34m)\u001b[0m\u001b[0;34m:\u001b[0m\u001b[0;34m\u001b[0m\u001b[0m\n\u001b[0;32m---> 85\u001b[0;31m                 \u001b[0;32mif\u001b[0m \u001b[0mnp\u001b[0m\u001b[0;34m.\u001b[0m\u001b[0mdot\u001b[0m\u001b[0;34m(\u001b[0m\u001b[0mx\u001b[0m\u001b[0;34m,\u001b[0m\u001b[0mv\u001b[0m\u001b[0;34m)\u001b[0m \u001b[0;34m>=\u001b[0m \u001b[0;36m0\u001b[0m\u001b[0;34m:\u001b[0m\u001b[0;34m\u001b[0m\u001b[0m\n\u001b[0m\u001b[1;32m     86\u001b[0m                     \u001b[0mri\u001b[0m\u001b[0;34m.\u001b[0m\u001b[0mappend\u001b[0m\u001b[0;34m(\u001b[0m\u001b[0mi\u001b[0m\u001b[0;34m)\u001b[0m\u001b[0;34m\u001b[0m\u001b[0m\n\u001b[1;32m     87\u001b[0m                 \u001b[0;32melse\u001b[0m\u001b[0;34m:\u001b[0m\u001b[0;34m\u001b[0m\u001b[0m\n",
      "\u001b[0;31mKeyboardInterrupt\u001b[0m: "
     ]
    }
   ],
   "source": [
    "from sklearn.model_selection import KFold\n",
    "num_folds = 5\n",
    "folds = KFold(num_folds,True,1)\n",
    "k_fold_sets = folds.split(data.X_train)\n",
    "results_ratios2 = []\n",
    "for rat in np.arange(0.1, 1, 0.2):\n",
    "    average_acc = 0\n",
    "    for train,test in folds.split(data.X_train):\n",
    "        randF = RandomForest(ratio = rat)\n",
    "        randF.fit(data.X_train[train], data.y_train[train])\n",
    "        predicted_y = np.array(randF.predict(data.X_train[test]))\n",
    "        mismatch = predicted_y != data.y_train[test]\n",
    "        average_acc += np.sum(mismatch)/len(predicted_y)\n",
    "    average_acc = average_acc/num_folds\n",
    "    results_ratios2.append([rat,1-average_acc])\n",
    "\n",
    "results_numT2 = []\n",
    "for NN in np.arange(1,27,5):\n",
    "    average_acc = 0\n",
    "    for train,test in folds.split(data.X_train):\n",
    "        randF = RandomForest(N = NN)\n",
    "        randF.fit(data.X_train[train], data.y_train[train])\n",
    "        predicted_y = np.array(randF.predict(data.X_train[test]))\n",
    "        mismatch = predicted_y != data.y_train[test]\n",
    "        average_acc += np.sum(mismatch)/len(predicted_y)\n",
    "    average_acc = average_acc/num_folds\n",
    "    results_numT2.append([NN,1-average_acc])\n",
    "    \n",
    "results_canSplits = []\n",
    "for cs in np.arange(1,1002,200):\n",
    "    average_acc = 0\n",
    "    for train,test in folds.split(data.X_train):\n",
    "        randF = RandomForest(candidate_splits = cs)\n",
    "        randF.fit(data.X_train[train], data.y_train[train])\n",
    "        predicted_y = np.array(randF.predict(data.X_train[test]))\n",
    "        mismatch = predicted_y != data.y_train[test]\n",
    "        average_acc += np.sum(mismatch)/len(predicted_y)\n",
    "    average_acc = average_acc/num_folds\n",
    "    results_canSplits.append([cs,1-average_acc])\n",
    "\n",
    "results_depths2 = []\n",
    "for dep in np.arange(1,22,5):\n",
    "    average_acc = 0\n",
    "    for train,test in folds.split(data.X_train):\n",
    "        randF = RandomForest(max_depth = dep)\n",
    "        randF.fit(data.X_train[train], data.y_train[train])\n",
    "        predicted_y = np.array(randF.predict(data.X_train[test]))\n",
    "        mismatch = predicted_y != data.y_train[test]\n",
    "        average_acc += np.sum(mismatch)/len(predicted_y)\n",
    "        #print((rat,NN,dep),average_E)\n",
    "    average_acc = average_acc/num_folds\n",
    "    results_depths2.append([dep,1-average_acc])"
   ]
  },
  {
   "cell_type": "code",
   "execution_count": 414,
   "metadata": {},
   "outputs": [
    {
     "name": "stdout",
     "output_type": "stream",
     "text": [
      "fold\n",
      "BAGPRED\n",
      "fold\n",
      "BAGPRED\n",
      "fold\n",
      "BAGPRED\n",
      "fold\n",
      "BAGPRED\n",
      "fold\n",
      "BAGPRED\n",
      "fold\n",
      "BAGPRED\n",
      "fold\n",
      "BAGPRED\n",
      "fold\n",
      "BAGPRED\n",
      "fold\n",
      "BAGPRED\n",
      "fold\n",
      "BAGPRED\n",
      "fold\n",
      "BAGPRED\n",
      "fold\n",
      "BAGPRED\n",
      "fold\n",
      "BAGPRED\n",
      "fold\n",
      "BAGPRED\n",
      "fold\n",
      "BAGPRED\n",
      "fold\n",
      "BAGPRED\n",
      "fold\n",
      "BAGPRED\n",
      "fold\n",
      "BAGPRED\n",
      "fold\n",
      "BAGPRED\n",
      "fold\n",
      "BAGPRED\n",
      "fold\n",
      "BAGPRED\n",
      "fold\n"
     ]
    },
    {
     "ename": "KeyboardInterrupt",
     "evalue": "",
     "output_type": "error",
     "traceback": [
      "\u001b[0;31m---------------------------------------------------------------------------\u001b[0m",
      "\u001b[0;31mKeyboardInterrupt\u001b[0m                         Traceback (most recent call last)",
      "\u001b[0;32m<ipython-input-414-3987d9788b7e>\u001b[0m in \u001b[0;36m<module>\u001b[0;34m()\u001b[0m\n\u001b[1;32m      5\u001b[0m         \u001b[0mrandF\u001b[0m \u001b[0;34m=\u001b[0m \u001b[0mRandomForest\u001b[0m\u001b[0;34m(\u001b[0m\u001b[0mmax_depth\u001b[0m \u001b[0;34m=\u001b[0m \u001b[0mdep\u001b[0m\u001b[0;34m)\u001b[0m\u001b[0;34m\u001b[0m\u001b[0m\n\u001b[1;32m      6\u001b[0m         \u001b[0mprint\u001b[0m\u001b[0;34m(\u001b[0m\u001b[0;34m'fold'\u001b[0m\u001b[0;34m)\u001b[0m\u001b[0;34m\u001b[0m\u001b[0m\n\u001b[0;32m----> 7\u001b[0;31m         \u001b[0mrandF\u001b[0m\u001b[0;34m.\u001b[0m\u001b[0mfit\u001b[0m\u001b[0;34m(\u001b[0m\u001b[0mdata\u001b[0m\u001b[0;34m.\u001b[0m\u001b[0mX_train\u001b[0m\u001b[0;34m[\u001b[0m\u001b[0mtrain\u001b[0m\u001b[0;34m]\u001b[0m\u001b[0;34m,\u001b[0m \u001b[0mdata\u001b[0m\u001b[0;34m.\u001b[0m\u001b[0my_train\u001b[0m\u001b[0;34m[\u001b[0m\u001b[0mtrain\u001b[0m\u001b[0;34m]\u001b[0m\u001b[0;34m)\u001b[0m\u001b[0;34m\u001b[0m\u001b[0m\n\u001b[0m\u001b[1;32m      8\u001b[0m         \u001b[0mpredicted_y\u001b[0m \u001b[0;34m=\u001b[0m \u001b[0mnp\u001b[0m\u001b[0;34m.\u001b[0m\u001b[0marray\u001b[0m\u001b[0;34m(\u001b[0m\u001b[0mrandF\u001b[0m\u001b[0;34m.\u001b[0m\u001b[0mpredict\u001b[0m\u001b[0;34m(\u001b[0m\u001b[0mdata\u001b[0m\u001b[0;34m.\u001b[0m\u001b[0mX_train\u001b[0m\u001b[0;34m[\u001b[0m\u001b[0mtest\u001b[0m\u001b[0;34m]\u001b[0m\u001b[0;34m)\u001b[0m\u001b[0;34m)\u001b[0m\u001b[0;34m\u001b[0m\u001b[0m\n\u001b[1;32m      9\u001b[0m         \u001b[0mmismatch\u001b[0m \u001b[0;34m=\u001b[0m \u001b[0mpredicted_y\u001b[0m \u001b[0;34m!=\u001b[0m \u001b[0mdata\u001b[0m\u001b[0;34m.\u001b[0m\u001b[0my_train\u001b[0m\u001b[0;34m[\u001b[0m\u001b[0mtest\u001b[0m\u001b[0;34m]\u001b[0m\u001b[0;34m\u001b[0m\u001b[0m\n",
      "\u001b[0;32m<ipython-input-364-091163ba15ea>\u001b[0m in \u001b[0;36mfit\u001b[0;34m(self, X_train, y_train)\u001b[0m\n\u001b[1;32m     18\u001b[0m             \u001b[0mh\u001b[0m \u001b[0;34m=\u001b[0m \u001b[0mRandomDecisionTree\u001b[0m\u001b[0;34m(\u001b[0m\u001b[0mcandidate_splits\u001b[0m \u001b[0;34m=\u001b[0m \u001b[0mself\u001b[0m\u001b[0;34m.\u001b[0m\u001b[0mcandidate_splits\u001b[0m\u001b[0;34m,\u001b[0m \u001b[0mdepth\u001b[0m \u001b[0;34m=\u001b[0m \u001b[0mself\u001b[0m\u001b[0;34m.\u001b[0m\u001b[0mmax_depth\u001b[0m\u001b[0;34m)\u001b[0m\u001b[0;34m\u001b[0m\u001b[0m\n\u001b[1;32m     19\u001b[0m             \u001b[0mboots\u001b[0m \u001b[0;34m=\u001b[0m \u001b[0mself\u001b[0m\u001b[0;34m.\u001b[0m\u001b[0mboostrap\u001b[0m\u001b[0;34m(\u001b[0m\u001b[0mX_train\u001b[0m\u001b[0;34m,\u001b[0m \u001b[0my_train\u001b[0m\u001b[0;34m)\u001b[0m\u001b[0;34m\u001b[0m\u001b[0m\n\u001b[0;32m---> 20\u001b[0;31m             \u001b[0mself\u001b[0m\u001b[0;34m.\u001b[0m\u001b[0mlearners\u001b[0m\u001b[0;34m.\u001b[0m\u001b[0mappend\u001b[0m\u001b[0;34m(\u001b[0m\u001b[0mh\u001b[0m\u001b[0;34m.\u001b[0m\u001b[0mfit\u001b[0m\u001b[0;34m(\u001b[0m\u001b[0mboots\u001b[0m\u001b[0;34m[\u001b[0m\u001b[0;36m0\u001b[0m\u001b[0;34m]\u001b[0m\u001b[0;34m,\u001b[0m \u001b[0mboots\u001b[0m\u001b[0;34m[\u001b[0m\u001b[0;36m1\u001b[0m\u001b[0;34m]\u001b[0m\u001b[0;34m)\u001b[0m\u001b[0;34m)\u001b[0m\u001b[0;34m\u001b[0m\u001b[0m\n\u001b[0m",
      "\u001b[0;32m<ipython-input-399-6585e37d03f8>\u001b[0m in \u001b[0;36mfit\u001b[0;34m(self, X_train, y_train)\u001b[0m\n\u001b[1;32m     31\u001b[0m \u001b[0;34m\u001b[0m\u001b[0m\n\u001b[1;32m     32\u001b[0m         \"\"\"\n\u001b[0;32m---> 33\u001b[0;31m         \u001b[0mself\u001b[0m\u001b[0;34m.\u001b[0m\u001b[0mroot\u001b[0m \u001b[0;34m=\u001b[0m \u001b[0mself\u001b[0m\u001b[0;34m.\u001b[0m\u001b[0mbuild_tree\u001b[0m\u001b[0;34m(\u001b[0m\u001b[0mX_train\u001b[0m\u001b[0;34m[\u001b[0m\u001b[0;34m:\u001b[0m\u001b[0;34m]\u001b[0m\u001b[0;34m,\u001b[0m \u001b[0my_train\u001b[0m\u001b[0;34m[\u001b[0m\u001b[0;34m:\u001b[0m\u001b[0;34m]\u001b[0m\u001b[0;34m,\u001b[0m \u001b[0;36m0\u001b[0m\u001b[0;34m)\u001b[0m\u001b[0;34m\u001b[0m\u001b[0m\n\u001b[0m\u001b[1;32m     34\u001b[0m         \u001b[0;32mreturn\u001b[0m \u001b[0mself\u001b[0m\u001b[0;34m\u001b[0m\u001b[0m\n\u001b[1;32m     35\u001b[0m \u001b[0;34m\u001b[0m\u001b[0m\n",
      "\u001b[0;32m<ipython-input-399-6585e37d03f8>\u001b[0m in \u001b[0;36mbuild_tree\u001b[0;34m(self, X_train, y_train, height)\u001b[0m\n\u001b[1;32m     59\u001b[0m             \u001b[0mnode\u001b[0m\u001b[0;34m.\u001b[0m\u001b[0mlabel\u001b[0m \u001b[0;34m=\u001b[0m \u001b[0mself\u001b[0m\u001b[0;34m.\u001b[0m\u001b[0mmajority\u001b[0m\u001b[0;34m(\u001b[0m\u001b[0my_train\u001b[0m\u001b[0;34m)\u001b[0m\u001b[0;34m\u001b[0m\u001b[0m\n\u001b[1;32m     60\u001b[0m             \u001b[0;32mreturn\u001b[0m \u001b[0mnode\u001b[0m\u001b[0;34m\u001b[0m\u001b[0m\n\u001b[0;32m---> 61\u001b[0;31m         \u001b[0mright_node\u001b[0m \u001b[0;34m=\u001b[0m \u001b[0mself\u001b[0m\u001b[0;34m.\u001b[0m\u001b[0mbuild_tree\u001b[0m\u001b[0;34m(\u001b[0m\u001b[0mX_train\u001b[0m\u001b[0;34m[\u001b[0m\u001b[0mri\u001b[0m\u001b[0;34m]\u001b[0m\u001b[0;34m,\u001b[0m \u001b[0my_train\u001b[0m\u001b[0;34m[\u001b[0m\u001b[0mri\u001b[0m\u001b[0;34m]\u001b[0m\u001b[0;34m,\u001b[0m \u001b[0mheight\u001b[0m\u001b[0;34m)\u001b[0m\u001b[0;34m\u001b[0m\u001b[0m\n\u001b[0m\u001b[1;32m     62\u001b[0m         \u001b[0mleft_node\u001b[0m \u001b[0;34m=\u001b[0m \u001b[0mself\u001b[0m\u001b[0;34m.\u001b[0m\u001b[0mbuild_tree\u001b[0m\u001b[0;34m(\u001b[0m\u001b[0mX_train\u001b[0m\u001b[0;34m[\u001b[0m\u001b[0mli\u001b[0m\u001b[0;34m]\u001b[0m\u001b[0;34m,\u001b[0m \u001b[0my_train\u001b[0m\u001b[0;34m[\u001b[0m\u001b[0mli\u001b[0m\u001b[0;34m]\u001b[0m\u001b[0;34m,\u001b[0m \u001b[0mheight\u001b[0m\u001b[0;34m)\u001b[0m\u001b[0;34m\u001b[0m\u001b[0m\n\u001b[1;32m     63\u001b[0m         \u001b[0mnode\u001b[0m\u001b[0;34m.\u001b[0m\u001b[0mright\u001b[0m \u001b[0;34m=\u001b[0m \u001b[0mright_node\u001b[0m\u001b[0;34m\u001b[0m\u001b[0m\n",
      "\u001b[0;32m<ipython-input-399-6585e37d03f8>\u001b[0m in \u001b[0;36mbuild_tree\u001b[0;34m(self, X_train, y_train, height)\u001b[0m\n\u001b[1;32m     59\u001b[0m             \u001b[0mnode\u001b[0m\u001b[0;34m.\u001b[0m\u001b[0mlabel\u001b[0m \u001b[0;34m=\u001b[0m \u001b[0mself\u001b[0m\u001b[0;34m.\u001b[0m\u001b[0mmajority\u001b[0m\u001b[0;34m(\u001b[0m\u001b[0my_train\u001b[0m\u001b[0;34m)\u001b[0m\u001b[0;34m\u001b[0m\u001b[0m\n\u001b[1;32m     60\u001b[0m             \u001b[0;32mreturn\u001b[0m \u001b[0mnode\u001b[0m\u001b[0;34m\u001b[0m\u001b[0m\n\u001b[0;32m---> 61\u001b[0;31m         \u001b[0mright_node\u001b[0m \u001b[0;34m=\u001b[0m \u001b[0mself\u001b[0m\u001b[0;34m.\u001b[0m\u001b[0mbuild_tree\u001b[0m\u001b[0;34m(\u001b[0m\u001b[0mX_train\u001b[0m\u001b[0;34m[\u001b[0m\u001b[0mri\u001b[0m\u001b[0;34m]\u001b[0m\u001b[0;34m,\u001b[0m \u001b[0my_train\u001b[0m\u001b[0;34m[\u001b[0m\u001b[0mri\u001b[0m\u001b[0;34m]\u001b[0m\u001b[0;34m,\u001b[0m \u001b[0mheight\u001b[0m\u001b[0;34m)\u001b[0m\u001b[0;34m\u001b[0m\u001b[0m\n\u001b[0m\u001b[1;32m     62\u001b[0m         \u001b[0mleft_node\u001b[0m \u001b[0;34m=\u001b[0m \u001b[0mself\u001b[0m\u001b[0;34m.\u001b[0m\u001b[0mbuild_tree\u001b[0m\u001b[0;34m(\u001b[0m\u001b[0mX_train\u001b[0m\u001b[0;34m[\u001b[0m\u001b[0mli\u001b[0m\u001b[0;34m]\u001b[0m\u001b[0;34m,\u001b[0m \u001b[0my_train\u001b[0m\u001b[0;34m[\u001b[0m\u001b[0mli\u001b[0m\u001b[0;34m]\u001b[0m\u001b[0;34m,\u001b[0m \u001b[0mheight\u001b[0m\u001b[0;34m)\u001b[0m\u001b[0;34m\u001b[0m\u001b[0m\n\u001b[1;32m     63\u001b[0m         \u001b[0mnode\u001b[0m\u001b[0;34m.\u001b[0m\u001b[0mright\u001b[0m \u001b[0;34m=\u001b[0m \u001b[0mright_node\u001b[0m\u001b[0;34m\u001b[0m\u001b[0m\n",
      "\u001b[0;32m<ipython-input-399-6585e37d03f8>\u001b[0m in \u001b[0;36mbuild_tree\u001b[0;34m(self, X_train, y_train, height)\u001b[0m\n\u001b[1;32m     59\u001b[0m             \u001b[0mnode\u001b[0m\u001b[0;34m.\u001b[0m\u001b[0mlabel\u001b[0m \u001b[0;34m=\u001b[0m \u001b[0mself\u001b[0m\u001b[0;34m.\u001b[0m\u001b[0mmajority\u001b[0m\u001b[0;34m(\u001b[0m\u001b[0my_train\u001b[0m\u001b[0;34m)\u001b[0m\u001b[0;34m\u001b[0m\u001b[0m\n\u001b[1;32m     60\u001b[0m             \u001b[0;32mreturn\u001b[0m \u001b[0mnode\u001b[0m\u001b[0;34m\u001b[0m\u001b[0m\n\u001b[0;32m---> 61\u001b[0;31m         \u001b[0mright_node\u001b[0m \u001b[0;34m=\u001b[0m \u001b[0mself\u001b[0m\u001b[0;34m.\u001b[0m\u001b[0mbuild_tree\u001b[0m\u001b[0;34m(\u001b[0m\u001b[0mX_train\u001b[0m\u001b[0;34m[\u001b[0m\u001b[0mri\u001b[0m\u001b[0;34m]\u001b[0m\u001b[0;34m,\u001b[0m \u001b[0my_train\u001b[0m\u001b[0;34m[\u001b[0m\u001b[0mri\u001b[0m\u001b[0;34m]\u001b[0m\u001b[0;34m,\u001b[0m \u001b[0mheight\u001b[0m\u001b[0;34m)\u001b[0m\u001b[0;34m\u001b[0m\u001b[0m\n\u001b[0m\u001b[1;32m     62\u001b[0m         \u001b[0mleft_node\u001b[0m \u001b[0;34m=\u001b[0m \u001b[0mself\u001b[0m\u001b[0;34m.\u001b[0m\u001b[0mbuild_tree\u001b[0m\u001b[0;34m(\u001b[0m\u001b[0mX_train\u001b[0m\u001b[0;34m[\u001b[0m\u001b[0mli\u001b[0m\u001b[0;34m]\u001b[0m\u001b[0;34m,\u001b[0m \u001b[0my_train\u001b[0m\u001b[0;34m[\u001b[0m\u001b[0mli\u001b[0m\u001b[0;34m]\u001b[0m\u001b[0;34m,\u001b[0m \u001b[0mheight\u001b[0m\u001b[0;34m)\u001b[0m\u001b[0;34m\u001b[0m\u001b[0m\n\u001b[1;32m     63\u001b[0m         \u001b[0mnode\u001b[0m\u001b[0;34m.\u001b[0m\u001b[0mright\u001b[0m \u001b[0;34m=\u001b[0m \u001b[0mright_node\u001b[0m\u001b[0;34m\u001b[0m\u001b[0m\n",
      "\u001b[0;32m<ipython-input-399-6585e37d03f8>\u001b[0m in \u001b[0;36mbuild_tree\u001b[0;34m(self, X_train, y_train, height)\u001b[0m\n\u001b[1;32m     59\u001b[0m             \u001b[0mnode\u001b[0m\u001b[0;34m.\u001b[0m\u001b[0mlabel\u001b[0m \u001b[0;34m=\u001b[0m \u001b[0mself\u001b[0m\u001b[0;34m.\u001b[0m\u001b[0mmajority\u001b[0m\u001b[0;34m(\u001b[0m\u001b[0my_train\u001b[0m\u001b[0;34m)\u001b[0m\u001b[0;34m\u001b[0m\u001b[0m\n\u001b[1;32m     60\u001b[0m             \u001b[0;32mreturn\u001b[0m \u001b[0mnode\u001b[0m\u001b[0;34m\u001b[0m\u001b[0m\n\u001b[0;32m---> 61\u001b[0;31m         \u001b[0mright_node\u001b[0m \u001b[0;34m=\u001b[0m \u001b[0mself\u001b[0m\u001b[0;34m.\u001b[0m\u001b[0mbuild_tree\u001b[0m\u001b[0;34m(\u001b[0m\u001b[0mX_train\u001b[0m\u001b[0;34m[\u001b[0m\u001b[0mri\u001b[0m\u001b[0;34m]\u001b[0m\u001b[0;34m,\u001b[0m \u001b[0my_train\u001b[0m\u001b[0;34m[\u001b[0m\u001b[0mri\u001b[0m\u001b[0;34m]\u001b[0m\u001b[0;34m,\u001b[0m \u001b[0mheight\u001b[0m\u001b[0;34m)\u001b[0m\u001b[0;34m\u001b[0m\u001b[0m\n\u001b[0m\u001b[1;32m     62\u001b[0m         \u001b[0mleft_node\u001b[0m \u001b[0;34m=\u001b[0m \u001b[0mself\u001b[0m\u001b[0;34m.\u001b[0m\u001b[0mbuild_tree\u001b[0m\u001b[0;34m(\u001b[0m\u001b[0mX_train\u001b[0m\u001b[0;34m[\u001b[0m\u001b[0mli\u001b[0m\u001b[0;34m]\u001b[0m\u001b[0;34m,\u001b[0m \u001b[0my_train\u001b[0m\u001b[0;34m[\u001b[0m\u001b[0mli\u001b[0m\u001b[0;34m]\u001b[0m\u001b[0;34m,\u001b[0m \u001b[0mheight\u001b[0m\u001b[0;34m)\u001b[0m\u001b[0;34m\u001b[0m\u001b[0m\n\u001b[1;32m     63\u001b[0m         \u001b[0mnode\u001b[0m\u001b[0;34m.\u001b[0m\u001b[0mright\u001b[0m \u001b[0;34m=\u001b[0m \u001b[0mright_node\u001b[0m\u001b[0;34m\u001b[0m\u001b[0m\n",
      "\u001b[0;32m<ipython-input-399-6585e37d03f8>\u001b[0m in \u001b[0;36mbuild_tree\u001b[0;34m(self, X_train, y_train, height)\u001b[0m\n\u001b[1;32m     59\u001b[0m             \u001b[0mnode\u001b[0m\u001b[0;34m.\u001b[0m\u001b[0mlabel\u001b[0m \u001b[0;34m=\u001b[0m \u001b[0mself\u001b[0m\u001b[0;34m.\u001b[0m\u001b[0mmajority\u001b[0m\u001b[0;34m(\u001b[0m\u001b[0my_train\u001b[0m\u001b[0;34m)\u001b[0m\u001b[0;34m\u001b[0m\u001b[0m\n\u001b[1;32m     60\u001b[0m             \u001b[0;32mreturn\u001b[0m \u001b[0mnode\u001b[0m\u001b[0;34m\u001b[0m\u001b[0m\n\u001b[0;32m---> 61\u001b[0;31m         \u001b[0mright_node\u001b[0m \u001b[0;34m=\u001b[0m \u001b[0mself\u001b[0m\u001b[0;34m.\u001b[0m\u001b[0mbuild_tree\u001b[0m\u001b[0;34m(\u001b[0m\u001b[0mX_train\u001b[0m\u001b[0;34m[\u001b[0m\u001b[0mri\u001b[0m\u001b[0;34m]\u001b[0m\u001b[0;34m,\u001b[0m \u001b[0my_train\u001b[0m\u001b[0;34m[\u001b[0m\u001b[0mri\u001b[0m\u001b[0;34m]\u001b[0m\u001b[0;34m,\u001b[0m \u001b[0mheight\u001b[0m\u001b[0;34m)\u001b[0m\u001b[0;34m\u001b[0m\u001b[0m\n\u001b[0m\u001b[1;32m     62\u001b[0m         \u001b[0mleft_node\u001b[0m \u001b[0;34m=\u001b[0m \u001b[0mself\u001b[0m\u001b[0;34m.\u001b[0m\u001b[0mbuild_tree\u001b[0m\u001b[0;34m(\u001b[0m\u001b[0mX_train\u001b[0m\u001b[0;34m[\u001b[0m\u001b[0mli\u001b[0m\u001b[0;34m]\u001b[0m\u001b[0;34m,\u001b[0m \u001b[0my_train\u001b[0m\u001b[0;34m[\u001b[0m\u001b[0mli\u001b[0m\u001b[0;34m]\u001b[0m\u001b[0;34m,\u001b[0m \u001b[0mheight\u001b[0m\u001b[0;34m)\u001b[0m\u001b[0;34m\u001b[0m\u001b[0m\n\u001b[1;32m     63\u001b[0m         \u001b[0mnode\u001b[0m\u001b[0;34m.\u001b[0m\u001b[0mright\u001b[0m \u001b[0;34m=\u001b[0m \u001b[0mright_node\u001b[0m\u001b[0;34m\u001b[0m\u001b[0m\n",
      "\u001b[0;32m<ipython-input-399-6585e37d03f8>\u001b[0m in \u001b[0;36mbuild_tree\u001b[0;34m(self, X_train, y_train, height)\u001b[0m\n\u001b[1;32m     60\u001b[0m             \u001b[0;32mreturn\u001b[0m \u001b[0mnode\u001b[0m\u001b[0;34m\u001b[0m\u001b[0m\n\u001b[1;32m     61\u001b[0m         \u001b[0mright_node\u001b[0m \u001b[0;34m=\u001b[0m \u001b[0mself\u001b[0m\u001b[0;34m.\u001b[0m\u001b[0mbuild_tree\u001b[0m\u001b[0;34m(\u001b[0m\u001b[0mX_train\u001b[0m\u001b[0;34m[\u001b[0m\u001b[0mri\u001b[0m\u001b[0;34m]\u001b[0m\u001b[0;34m,\u001b[0m \u001b[0my_train\u001b[0m\u001b[0;34m[\u001b[0m\u001b[0mri\u001b[0m\u001b[0;34m]\u001b[0m\u001b[0;34m,\u001b[0m \u001b[0mheight\u001b[0m\u001b[0;34m)\u001b[0m\u001b[0;34m\u001b[0m\u001b[0m\n\u001b[0;32m---> 62\u001b[0;31m         \u001b[0mleft_node\u001b[0m \u001b[0;34m=\u001b[0m \u001b[0mself\u001b[0m\u001b[0;34m.\u001b[0m\u001b[0mbuild_tree\u001b[0m\u001b[0;34m(\u001b[0m\u001b[0mX_train\u001b[0m\u001b[0;34m[\u001b[0m\u001b[0mli\u001b[0m\u001b[0;34m]\u001b[0m\u001b[0;34m,\u001b[0m \u001b[0my_train\u001b[0m\u001b[0;34m[\u001b[0m\u001b[0mli\u001b[0m\u001b[0;34m]\u001b[0m\u001b[0;34m,\u001b[0m \u001b[0mheight\u001b[0m\u001b[0;34m)\u001b[0m\u001b[0;34m\u001b[0m\u001b[0m\n\u001b[0m\u001b[1;32m     63\u001b[0m         \u001b[0mnode\u001b[0m\u001b[0;34m.\u001b[0m\u001b[0mright\u001b[0m \u001b[0;34m=\u001b[0m \u001b[0mright_node\u001b[0m\u001b[0;34m\u001b[0m\u001b[0m\n\u001b[1;32m     64\u001b[0m         \u001b[0mnode\u001b[0m\u001b[0;34m.\u001b[0m\u001b[0mleft\u001b[0m \u001b[0;34m=\u001b[0m \u001b[0mleft_node\u001b[0m\u001b[0;34m\u001b[0m\u001b[0m\n",
      "\u001b[0;32m<ipython-input-399-6585e37d03f8>\u001b[0m in \u001b[0;36mbuild_tree\u001b[0;34m(self, X_train, y_train, height)\u001b[0m\n\u001b[1;32m     60\u001b[0m             \u001b[0;32mreturn\u001b[0m \u001b[0mnode\u001b[0m\u001b[0;34m\u001b[0m\u001b[0m\n\u001b[1;32m     61\u001b[0m         \u001b[0mright_node\u001b[0m \u001b[0;34m=\u001b[0m \u001b[0mself\u001b[0m\u001b[0;34m.\u001b[0m\u001b[0mbuild_tree\u001b[0m\u001b[0;34m(\u001b[0m\u001b[0mX_train\u001b[0m\u001b[0;34m[\u001b[0m\u001b[0mri\u001b[0m\u001b[0;34m]\u001b[0m\u001b[0;34m,\u001b[0m \u001b[0my_train\u001b[0m\u001b[0;34m[\u001b[0m\u001b[0mri\u001b[0m\u001b[0;34m]\u001b[0m\u001b[0;34m,\u001b[0m \u001b[0mheight\u001b[0m\u001b[0;34m)\u001b[0m\u001b[0;34m\u001b[0m\u001b[0m\n\u001b[0;32m---> 62\u001b[0;31m         \u001b[0mleft_node\u001b[0m \u001b[0;34m=\u001b[0m \u001b[0mself\u001b[0m\u001b[0;34m.\u001b[0m\u001b[0mbuild_tree\u001b[0m\u001b[0;34m(\u001b[0m\u001b[0mX_train\u001b[0m\u001b[0;34m[\u001b[0m\u001b[0mli\u001b[0m\u001b[0;34m]\u001b[0m\u001b[0;34m,\u001b[0m \u001b[0my_train\u001b[0m\u001b[0;34m[\u001b[0m\u001b[0mli\u001b[0m\u001b[0;34m]\u001b[0m\u001b[0;34m,\u001b[0m \u001b[0mheight\u001b[0m\u001b[0;34m)\u001b[0m\u001b[0;34m\u001b[0m\u001b[0m\n\u001b[0m\u001b[1;32m     63\u001b[0m         \u001b[0mnode\u001b[0m\u001b[0;34m.\u001b[0m\u001b[0mright\u001b[0m \u001b[0;34m=\u001b[0m \u001b[0mright_node\u001b[0m\u001b[0;34m\u001b[0m\u001b[0m\n\u001b[1;32m     64\u001b[0m         \u001b[0mnode\u001b[0m\u001b[0;34m.\u001b[0m\u001b[0mleft\u001b[0m \u001b[0;34m=\u001b[0m \u001b[0mleft_node\u001b[0m\u001b[0;34m\u001b[0m\u001b[0m\n",
      "\u001b[0;32m<ipython-input-399-6585e37d03f8>\u001b[0m in \u001b[0;36mbuild_tree\u001b[0;34m(self, X_train, y_train, height)\u001b[0m\n\u001b[1;32m     59\u001b[0m             \u001b[0mnode\u001b[0m\u001b[0;34m.\u001b[0m\u001b[0mlabel\u001b[0m \u001b[0;34m=\u001b[0m \u001b[0mself\u001b[0m\u001b[0;34m.\u001b[0m\u001b[0mmajority\u001b[0m\u001b[0;34m(\u001b[0m\u001b[0my_train\u001b[0m\u001b[0;34m)\u001b[0m\u001b[0;34m\u001b[0m\u001b[0m\n\u001b[1;32m     60\u001b[0m             \u001b[0;32mreturn\u001b[0m \u001b[0mnode\u001b[0m\u001b[0;34m\u001b[0m\u001b[0m\n\u001b[0;32m---> 61\u001b[0;31m         \u001b[0mright_node\u001b[0m \u001b[0;34m=\u001b[0m \u001b[0mself\u001b[0m\u001b[0;34m.\u001b[0m\u001b[0mbuild_tree\u001b[0m\u001b[0;34m(\u001b[0m\u001b[0mX_train\u001b[0m\u001b[0;34m[\u001b[0m\u001b[0mri\u001b[0m\u001b[0;34m]\u001b[0m\u001b[0;34m,\u001b[0m \u001b[0my_train\u001b[0m\u001b[0;34m[\u001b[0m\u001b[0mri\u001b[0m\u001b[0;34m]\u001b[0m\u001b[0;34m,\u001b[0m \u001b[0mheight\u001b[0m\u001b[0;34m)\u001b[0m\u001b[0;34m\u001b[0m\u001b[0m\n\u001b[0m\u001b[1;32m     62\u001b[0m         \u001b[0mleft_node\u001b[0m \u001b[0;34m=\u001b[0m \u001b[0mself\u001b[0m\u001b[0;34m.\u001b[0m\u001b[0mbuild_tree\u001b[0m\u001b[0;34m(\u001b[0m\u001b[0mX_train\u001b[0m\u001b[0;34m[\u001b[0m\u001b[0mli\u001b[0m\u001b[0;34m]\u001b[0m\u001b[0;34m,\u001b[0m \u001b[0my_train\u001b[0m\u001b[0;34m[\u001b[0m\u001b[0mli\u001b[0m\u001b[0;34m]\u001b[0m\u001b[0;34m,\u001b[0m \u001b[0mheight\u001b[0m\u001b[0;34m)\u001b[0m\u001b[0;34m\u001b[0m\u001b[0m\n\u001b[1;32m     63\u001b[0m         \u001b[0mnode\u001b[0m\u001b[0;34m.\u001b[0m\u001b[0mright\u001b[0m \u001b[0;34m=\u001b[0m \u001b[0mright_node\u001b[0m\u001b[0;34m\u001b[0m\u001b[0m\n",
      "\u001b[0;32m<ipython-input-399-6585e37d03f8>\u001b[0m in \u001b[0;36mbuild_tree\u001b[0;34m(self, X_train, y_train, height)\u001b[0m\n\u001b[1;32m     47\u001b[0m             \u001b[0;32mreturn\u001b[0m \u001b[0mnode\u001b[0m\u001b[0;34m\u001b[0m\u001b[0m\n\u001b[1;32m     48\u001b[0m         \u001b[0mheight\u001b[0m \u001b[0;34m+=\u001b[0m \u001b[0;36m1\u001b[0m\u001b[0;34m\u001b[0m\u001b[0m\n\u001b[0;32m---> 49\u001b[0;31m         \u001b[0mbest_split\u001b[0m \u001b[0;34m=\u001b[0m \u001b[0mself\u001b[0m\u001b[0;34m.\u001b[0m\u001b[0mfind_best_split\u001b[0m\u001b[0;34m(\u001b[0m\u001b[0mX_train\u001b[0m\u001b[0;34m,\u001b[0m \u001b[0my_train\u001b[0m\u001b[0;34m)\u001b[0m\u001b[0;34m\u001b[0m\u001b[0m\n\u001b[0m\u001b[1;32m     50\u001b[0m         \u001b[0mri\u001b[0m \u001b[0;34m=\u001b[0m \u001b[0;34m[\u001b[0m\u001b[0;34m]\u001b[0m\u001b[0;34m\u001b[0m\u001b[0m\n\u001b[1;32m     51\u001b[0m         \u001b[0mli\u001b[0m \u001b[0;34m=\u001b[0m \u001b[0;34m[\u001b[0m\u001b[0;34m]\u001b[0m\u001b[0;34m\u001b[0m\u001b[0m\n",
      "\u001b[0;32m<ipython-input-399-6585e37d03f8>\u001b[0m in \u001b[0;36mfind_best_split\u001b[0;34m(self, X_train, y_train)\u001b[0m\n\u001b[1;32m     83\u001b[0m             \u001b[0mli\u001b[0m \u001b[0;34m=\u001b[0m \u001b[0;34m[\u001b[0m\u001b[0;34m]\u001b[0m\u001b[0;34m\u001b[0m\u001b[0m\n\u001b[1;32m     84\u001b[0m             \u001b[0;32mfor\u001b[0m \u001b[0mi\u001b[0m\u001b[0;34m,\u001b[0m\u001b[0mx\u001b[0m \u001b[0;32min\u001b[0m \u001b[0menumerate\u001b[0m\u001b[0;34m(\u001b[0m\u001b[0mX_train\u001b[0m\u001b[0;34m)\u001b[0m\u001b[0;34m:\u001b[0m\u001b[0;34m\u001b[0m\u001b[0m\n\u001b[0;32m---> 85\u001b[0;31m                 \u001b[0;32mif\u001b[0m \u001b[0mnp\u001b[0m\u001b[0;34m.\u001b[0m\u001b[0mdot\u001b[0m\u001b[0;34m(\u001b[0m\u001b[0mx\u001b[0m\u001b[0;34m,\u001b[0m\u001b[0mv\u001b[0m\u001b[0;34m)\u001b[0m \u001b[0;34m>=\u001b[0m \u001b[0;36m0\u001b[0m\u001b[0;34m:\u001b[0m\u001b[0;34m\u001b[0m\u001b[0m\n\u001b[0m\u001b[1;32m     86\u001b[0m                     \u001b[0mri\u001b[0m\u001b[0;34m.\u001b[0m\u001b[0mappend\u001b[0m\u001b[0;34m(\u001b[0m\u001b[0mi\u001b[0m\u001b[0;34m)\u001b[0m\u001b[0;34m\u001b[0m\u001b[0m\n\u001b[1;32m     87\u001b[0m                 \u001b[0;32melse\u001b[0m\u001b[0;34m:\u001b[0m\u001b[0;34m\u001b[0m\u001b[0m\n",
      "\u001b[0;31mKeyboardInterrupt\u001b[0m: "
     ]
    }
   ],
   "source": [
    "results_depths2 = []\n",
    "for dep in np.arange(1,22,5):\n",
    "    average_acc = 0\n",
    "    for train,test in folds.split(data.X_train):\n",
    "        randF = RandomForest(max_depth = dep)\n",
    "        print('fold')\n",
    "        randF.fit(data.X_train[train], data.y_train[train])\n",
    "        predicted_y = np.array(randF.predict(data.X_train[test]))\n",
    "        mismatch = predicted_y != data.y_train[test]\n",
    "        average_acc += np.sum(mismatch)/len(predicted_y)\n",
    "        #print((rat,NN,dep),average_E)\n",
    "    average_acc = average_acc/num_folds\n",
    "    results_depths2.append([dep,1-average_acc])"
   ]
  },
  {
   "cell_type": "code",
   "execution_count": 405,
   "metadata": {},
   "outputs": [],
   "source": [
    "saved_results_ratios = results_ratios2\n",
    "saved_results_numT = results_numT2\n",
    "saved_results_canSplits = results_canSplits"
   ]
  },
  {
   "cell_type": "code",
   "execution_count": 415,
   "metadata": {},
   "outputs": [],
   "source": [
    "saved_results_depths = results_depths2"
   ]
  },
  {
   "cell_type": "code",
   "execution_count": 416,
   "metadata": {},
   "outputs": [
    {
     "name": "stdout",
     "output_type": "stream",
     "text": [
      "Results from 5-fold Cross Validation\n"
     ]
    },
    {
     "data": {
      "image/png": "[encoded data removed]",
      "text/plain": [
       "<Figure size 432x288 with 1 Axes>"
      ]
     },
     "metadata": {},
     "output_type": "display_data"
    },
    {
     "data": {
      "image/png": "[encoded data removed]",
      "text/plain": [
       "<Figure size 432x288 with 1 Axes>"
      ]
     },
     "metadata": {},
     "output_type": "display_data"
    },
    {
     "data": {
      "image/png": "[encoded data removed]",
      "text/plain": [
       "<Figure size 432x288 with 1 Axes>"
      ]
     },
     "metadata": {},
     "output_type": "display_data"
    },
    {
     "data": {
      "image/png": "[encoded data removed]",
      "text/plain": [
       "<Figure size 432x288 with 1 Axes>"
      ]
     },
     "metadata": {},
     "output_type": "display_data"
    }
   ],
   "source": [
    "print('Results from 5-fold Cross Validation')\n",
    "plt.scatter([x[0] for x in results_ratios2], [x[1] for x in results_ratios2])\n",
    "plt.xlabel('Ratios')\n",
    "plt.ylabel(\"Average Accuracy on Test Set\")\n",
    "plt.show();\n",
    "plt.scatter([x[0] for x in results_numT2], [x[1] for x in results_numT2])\n",
    "plt.xlabel('Number of Trees')\n",
    "plt.ylabel(\"Average Accuracy on Test Set\")\n",
    "plt.show();\n",
    "plt.scatter([x[0] for x in results_canSplits], [x[1] for x in results_canSplits])\n",
    "plt.xlabel('Number of Candidate Splits')\n",
    "plt.ylabel(\"Average Accuracy on Test Set\")\n",
    "plt.show();\n",
    "plt.scatter([x[0] for x in results_depths2], [x[1] for x in results_depths2])\n",
    "plt.xlabel('Maximum Depths')\n",
    "plt.ylabel(\"Average Accuracy on Test Set\")\n",
    "plt.show();"
   ]
  },
  {
   "cell_type": "code",
   "execution_count": 428,
   "metadata": {},
   "outputs": [
    {
     "name": "stdout",
     "output_type": "stream",
     "text": [
      "learner\n",
      "learner\n",
      "learner\n",
      "learner\n",
      "learner\n",
      "learner\n",
      "learner\n",
      "learner\n",
      "learner\n",
      "learner\n",
      "learner\n",
      "learner\n",
      "learner\n",
      "learner\n",
      "learner\n",
      "learner\n",
      "learner\n",
      "learner\n",
      "learner\n",
      "learner\n",
      "learner\n",
      "fitted\n",
      "0.967631191760667\n"
     ]
    }
   ],
   "source": [
    "randF = RandomForest(ratio = 0.7, N = 21, max_depth = 11, candidate_splits = 200)\n",
    "randF.fit(data.X_train, data.y_train)\n",
    "print('fitted')\n",
    "predicted_y = np.array(randF.predict(data.X_valid))\n",
    "mismatch = predicted_y != data.y_valid\n",
    "acc = np.sum(mismatch)/len(predicted_y)\n",
    "print(1-acc)"
   ]
  },
  {
   "cell_type": "markdown",
   "metadata": {},
   "source": [
    "Will again choose parameters based on the plots above. Parameters will be chosen from the plateau regions (when applicable) as before. For the ratios, the slope of the accuracy gain levels out around 0.4 but does continue to grow as the ratio increases from there, so a higher ratio still below 1 is chosen. In this case, 0.5 should be sufficient. \n",
    "\n",
    "We see the same trend with the number of trees as we saw with the bagging classifier, where the greatest accuracy gains occur between N = 1 and N > 1. The accuracy plot levels off around N = 10 and continues to grow slowly, so will pick a value above 10, so N = 11.\n",
    "\n",
    "For the number of candidate splits, the greatest accuracy gain is between 1 and 101, which is expected. Above 101, the accuracy is pretty constant, so will choose 200 splits, to be above the start of the plateau and to avoid unnecessary work. \n",
    "\n",
    "The same trend occurs for the maximum depth, where the majority of our accuracy gain occurs at the low values. Will choose a maximum depth of 11 since this is definitely in the plateau, but isn't too large such that you start to see overfitting. \n",
    "\n",
    "So the optimal parameters (optimal in terms of accuracy, avoiding overfitting, and minimizing computational cost) are: ratio = 0.5, number of trees = 11, maximum depth = 11, number of candidate splits = 200\n",
    "\n",
    "The accuracy on the validation set using these parameters is roughly 96.5% (from previous run on the data, lost output)\n"
   ]
  },
  {
   "cell_type": "code",
   "execution_count": null,
   "metadata": {},
   "outputs": [],
   "source": []
  }
 ],
 "metadata": {
  "kernelspec": {
   "display_name": "Python 3",
   "language": "python",
   "name": "python3"
  },
  "language_info": {
   "codemirror_mode": {
    "name": "ipython",
    "version": 3
   },
   "file_extension": ".py",
   "mimetype": "text/x-python",
   "name": "python",
   "nbconvert_exporter": "python",
   "pygments_lexer": "ipython3",
   "version": "3.6.5"
  },
  "varInspector": {
   "cols": {
    "lenName": 16,
    "lenType": 16,
    "lenVar": 40
   },
   "kernels_config": {
    "python": {
     "delete_cmd_postfix": "",
     "delete_cmd_prefix": "del ",
     "library": "var_list.py",
     "varRefreshCmd": "print(var_dic_list())"
    },
    "r": {
     "delete_cmd_postfix": ") ",
     "delete_cmd_prefix": "rm(",
     "library": "var_list.r",
     "varRefreshCmd": "cat(var_dic_list()) "
    }
   },
   "types_to_exclude": [
    "module",
    "function",
    "builtin_function_or_method",
    "instance",
    "_Feature"
   ],
   "window_display": false
  }
 },
 "nbformat": 4,
 "nbformat_minor": 2
}
