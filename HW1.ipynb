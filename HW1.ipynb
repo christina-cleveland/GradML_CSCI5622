{
 "cells": [
  {
   "cell_type": "code",
   "execution_count": 1,
   "metadata": {},
   "outputs": [],
   "source": [
    "import sys"
   ]
  },
  {
   "cell_type": "code",
   "execution_count": null,
   "metadata": {},
   "outputs": [],
   "source": [
    "#Q1\n",
    "\n",
    "class Stack:\n",
    "    def __init__(self):\n",
    "        self.nums = []\n",
    "    def push(self, newNum):\n",
    "        self.nums.append(newNum)\n",
    "    def \n"
   ]
  },
  {
   "cell_type": "code",
   "execution_count": 5,
   "metadata": {},
   "outputs": [],
   "source": [
    "\n",
    "class Node:\n",
    "    def __init__(self, nodeVal, nodeLeft, nodeRight, nodePar):\n",
    "            self.value = nodeVal\n",
    "            self.leftChild = nodeLeft\n",
    "            self.rightChild = nodeRight\n",
    "            self.parent = nodePar\n",
    "            \n",
    "    def getChildren(self):\n",
    "        #returns a list of both children\n",
    "        return [self.leftChild, self.rightChild]"
   ]
  },
  {
   "cell_type": "code",
   "execution_count": 12,
   "metadata": {},
   "outputs": [
    {
     "name": "stdout",
     "output_type": "stream",
     "text": [
      "[<__main__.Node object at 0x10f96ed30>, <__main__.Node object at 0x10f96ed68>]\n",
      "5\n"
     ]
    }
   ],
   "source": [
    "left = Node(10, None, None, None)\n",
    "right = Node(20, None, None, None)\n",
    "parent = Node(0, None, None, None)\n",
    "value = 5\n",
    "myNode = Node(value, left, right, parent)\n",
    "print (myNode.getChildren()) #should return [leftChild, rightChild]\n",
    "print (myNode.value)"
   ]
  },
  {
   "cell_type": "code",
   "execution_count": null,
   "metadata": {},
   "outputs": [],
   "source": []
  },
  {
   "cell_type": "code",
   "execution_count": 18,
   "metadata": {},
   "outputs": [],
   "source": [
    "class Stack:\n",
    "    def __init__(self):\n",
    "        self.nums = []\n",
    "    def push(self,num):\n",
    "        self.nums.append(num)\n",
    "    def pop(self):\n",
    "        return self.nums.pop()\n",
    "    def checkSize(self):\n",
    "        return len(self.nums)"
   ]
  },
  {
   "cell_type": "code",
   "execution_count": 20,
   "metadata": {},
   "outputs": [
    {
     "name": "stdout",
     "output_type": "stream",
     "text": [
      "2\n",
      "1\n"
     ]
    }
   ],
   "source": [
    "myStack =  Stack()\n",
    "\n",
    "myStack.push(5)\n",
    "\n",
    "myStack.push(2)\n",
    "\n",
    "print(myStack.pop())\n",
    "\n",
    "print(myStack.checkSize())"
   ]
  },
  {
   "cell_type": "code",
   "execution_count": null,
   "metadata": {},
   "outputs": [],
   "source": []
  }
 ],
 "metadata": {
  "kernelspec": {
   "display_name": "Python 3",
   "language": "python",
   "name": "python3"
  },
  "language_info": {
   "codemirror_mode": {
    "name": "ipython",
    "version": 3
   },
   "file_extension": ".py",
   "mimetype": "text/x-python",
   "name": "python",
   "nbconvert_exporter": "python",
   "pygments_lexer": "ipython3",
   "version": "3.6.5"
  }
 },
 "nbformat": 4,
 "nbformat_minor": 2
}
